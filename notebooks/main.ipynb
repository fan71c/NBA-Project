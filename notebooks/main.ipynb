{
 "cells": [
  {
   "cell_type": "code",
   "outputs": [
    {
     "name": "stdout",
     "output_type": "stream",
     "text": [
      "Requirement already satisfied: scikit-learn in /Users/fant1c/miniconda3/envs/project-cis-5450/lib/python3.8/site-packages (1.3.2)\r\n",
      "Requirement already satisfied: numpy<2.0,>=1.17.3 in /Users/fant1c/miniconda3/envs/project-cis-5450/lib/python3.8/site-packages (from scikit-learn) (1.24.3)\r\n",
      "Requirement already satisfied: scipy>=1.5.0 in /Users/fant1c/miniconda3/envs/project-cis-5450/lib/python3.8/site-packages (from scikit-learn) (1.10.1)\r\n",
      "Requirement already satisfied: joblib>=1.1.1 in /Users/fant1c/miniconda3/envs/project-cis-5450/lib/python3.8/site-packages (from scikit-learn) (1.4.2)\r\n",
      "Requirement already satisfied: threadpoolctl>=2.0.0 in /Users/fant1c/miniconda3/envs/project-cis-5450/lib/python3.8/site-packages (from scikit-learn) (3.5.0)\r\n",
      "Requirement already satisfied: seaborn in /Users/fant1c/miniconda3/envs/project-cis-5450/lib/python3.8/site-packages (0.13.2)\r\n",
      "Requirement already satisfied: numpy!=1.24.0,>=1.20 in /Users/fant1c/miniconda3/envs/project-cis-5450/lib/python3.8/site-packages (from seaborn) (1.24.3)\r\n",
      "Requirement already satisfied: pandas>=1.2 in /Users/fant1c/miniconda3/envs/project-cis-5450/lib/python3.8/site-packages (from seaborn) (2.0.3)\r\n",
      "Requirement already satisfied: matplotlib!=3.6.1,>=3.4 in /Users/fant1c/miniconda3/envs/project-cis-5450/lib/python3.8/site-packages (from seaborn) (3.7.5)\r\n",
      "Requirement already satisfied: contourpy>=1.0.1 in /Users/fant1c/miniconda3/envs/project-cis-5450/lib/python3.8/site-packages (from matplotlib!=3.6.1,>=3.4->seaborn) (1.1.1)\r\n",
      "Requirement already satisfied: cycler>=0.10 in /Users/fant1c/miniconda3/envs/project-cis-5450/lib/python3.8/site-packages (from matplotlib!=3.6.1,>=3.4->seaborn) (0.12.1)\r\n",
      "Requirement already satisfied: fonttools>=4.22.0 in /Users/fant1c/miniconda3/envs/project-cis-5450/lib/python3.8/site-packages (from matplotlib!=3.6.1,>=3.4->seaborn) (4.54.1)\r\n",
      "Requirement already satisfied: kiwisolver>=1.0.1 in /Users/fant1c/miniconda3/envs/project-cis-5450/lib/python3.8/site-packages (from matplotlib!=3.6.1,>=3.4->seaborn) (1.4.7)\r\n",
      "Requirement already satisfied: packaging>=20.0 in /Users/fant1c/miniconda3/envs/project-cis-5450/lib/python3.8/site-packages (from matplotlib!=3.6.1,>=3.4->seaborn) (24.1)\r\n",
      "Requirement already satisfied: pillow>=6.2.0 in /Users/fant1c/miniconda3/envs/project-cis-5450/lib/python3.8/site-packages (from matplotlib!=3.6.1,>=3.4->seaborn) (10.4.0)\r\n",
      "Requirement already satisfied: pyparsing>=2.3.1 in /Users/fant1c/miniconda3/envs/project-cis-5450/lib/python3.8/site-packages (from matplotlib!=3.6.1,>=3.4->seaborn) (3.1.4)\r\n",
      "Requirement already satisfied: python-dateutil>=2.7 in /Users/fant1c/miniconda3/envs/project-cis-5450/lib/python3.8/site-packages (from matplotlib!=3.6.1,>=3.4->seaborn) (2.9.0.post0)\r\n",
      "Requirement already satisfied: importlib-resources>=3.2.0 in /Users/fant1c/miniconda3/envs/project-cis-5450/lib/python3.8/site-packages (from matplotlib!=3.6.1,>=3.4->seaborn) (6.4.0)\r\n",
      "Requirement already satisfied: pytz>=2020.1 in /Users/fant1c/miniconda3/envs/project-cis-5450/lib/python3.8/site-packages (from pandas>=1.2->seaborn) (2024.1)\r\n",
      "Requirement already satisfied: tzdata>=2022.1 in /Users/fant1c/miniconda3/envs/project-cis-5450/lib/python3.8/site-packages (from pandas>=1.2->seaborn) (2023.3)\r\n",
      "Requirement already satisfied: zipp>=3.1.0 in /Users/fant1c/miniconda3/envs/project-cis-5450/lib/python3.8/site-packages (from importlib-resources>=3.2.0->matplotlib!=3.6.1,>=3.4->seaborn) (3.20.2)\r\n",
      "Requirement already satisfied: six>=1.5 in /Users/fant1c/miniconda3/envs/project-cis-5450/lib/python3.8/site-packages (from python-dateutil>=2.7->matplotlib!=3.6.1,>=3.4->seaborn) (1.16.0)\r\n",
      "Requirement already satisfied: numpy in /Users/fant1c/miniconda3/envs/project-cis-5450/lib/python3.8/site-packages (1.24.3)\r\n",
      "Requirement already satisfied: pandas in /Users/fant1c/miniconda3/envs/project-cis-5450/lib/python3.8/site-packages (2.0.3)\r\n",
      "Requirement already satisfied: python-dateutil>=2.8.2 in /Users/fant1c/miniconda3/envs/project-cis-5450/lib/python3.8/site-packages (from pandas) (2.9.0.post0)\r\n",
      "Requirement already satisfied: pytz>=2020.1 in /Users/fant1c/miniconda3/envs/project-cis-5450/lib/python3.8/site-packages (from pandas) (2024.1)\r\n",
      "Requirement already satisfied: tzdata>=2022.1 in /Users/fant1c/miniconda3/envs/project-cis-5450/lib/python3.8/site-packages (from pandas) (2023.3)\r\n",
      "Requirement already satisfied: numpy>=1.20.3 in /Users/fant1c/miniconda3/envs/project-cis-5450/lib/python3.8/site-packages (from pandas) (1.24.3)\r\n",
      "Requirement already satisfied: six>=1.5 in /Users/fant1c/miniconda3/envs/project-cis-5450/lib/python3.8/site-packages (from python-dateutil>=2.8.2->pandas) (1.16.0)\r\n",
      "Requirement already satisfied: scikit-multilearn in /Users/fant1c/miniconda3/envs/project-cis-5450/lib/python3.8/site-packages (0.2.0)\r\n",
      "Requirement already satisfied: kagglehub in /Users/fant1c/miniconda3/envs/project-cis-5450/lib/python3.8/site-packages (0.2.9)\r\n",
      "Requirement already satisfied: packaging in /Users/fant1c/miniconda3/envs/project-cis-5450/lib/python3.8/site-packages (from kagglehub) (24.1)\r\n",
      "Requirement already satisfied: requests in /Users/fant1c/miniconda3/envs/project-cis-5450/lib/python3.8/site-packages (from kagglehub) (2.32.3)\r\n",
      "Requirement already satisfied: tqdm in /Users/fant1c/miniconda3/envs/project-cis-5450/lib/python3.8/site-packages (from kagglehub) (4.67.0)\r\n",
      "Requirement already satisfied: charset-normalizer<4,>=2 in /Users/fant1c/miniconda3/envs/project-cis-5450/lib/python3.8/site-packages (from requests->kagglehub) (3.3.2)\r\n",
      "Requirement already satisfied: idna<4,>=2.5 in /Users/fant1c/miniconda3/envs/project-cis-5450/lib/python3.8/site-packages (from requests->kagglehub) (3.7)\r\n",
      "Requirement already satisfied: urllib3<3,>=1.21.1 in /Users/fant1c/miniconda3/envs/project-cis-5450/lib/python3.8/site-packages (from requests->kagglehub) (2.2.3)\r\n",
      "Requirement already satisfied: certifi>=2017.4.17 in /Users/fant1c/miniconda3/envs/project-cis-5450/lib/python3.8/site-packages (from requests->kagglehub) (2024.8.30)\r\n",
      "Updated Git hooks.\r\n",
      "Git LFS initialized.\r\n"
     ]
    }
   ],
   "source": [
    "# Donwload libraries\n",
    "!pip install scikit-learn\n",
    "!pip install seaborn\n",
    "!pip install numpy\n",
    "!pip install pandas\n",
    "!pip install scikit-multilearn\n",
    "!pip install kagglehub\n",
    "!git lfs install"
   ],
   "metadata": {
    "collapsed": false,
    "ExecuteTime": {
     "end_time": "2024-11-08T06:27:11.755568Z",
     "start_time": "2024-11-08T06:27:08.806505Z"
    }
   },
   "id": "6221e7fa33706511",
   "execution_count": 1
  },
  {
   "cell_type": "markdown",
   "source": [
    "Importing libraries and packages"
   ],
   "metadata": {
    "collapsed": false
   },
   "id": "aecaaea1f4433499"
  },
  {
   "cell_type": "code",
   "outputs": [],
   "source": [
    "#  git lfs track \"*.csv\" to track all csv files\n",
    "\n",
    "import os\n",
    "import kagglehub\n",
    "import sqlite3\n",
    "#Data Wrangling\n",
    "\n",
    "import numpy as np\n",
    "import pandas as pd\n",
    "\n",
    "#Trees\n",
    "from sklearn import tree\n",
    "from sklearn.ensemble import BaggingRegressor\n",
    "from sklearn.ensemble import RandomForestClassifier\n",
    "from sklearn.ensemble import RandomForestRegressor\n",
    "from sklearn.ensemble import GradientBoostingRegressor\n",
    "\n",
    "#Preprocessing Packages\n",
    "from sklearn.model_selection import train_test_split\n",
    "\n",
    "#Cross Validation\n",
    "from sklearn.model_selection import cross_val_score\n",
    "from sklearn.model_selection import KFold\n",
    "\n",
    "#Model tuning\n",
    "from sklearn.model_selection import GridSearchCV\n",
    "\n",
    "#Metrics\n",
    "from sklearn.metrics import mean_squared_error\n",
    "from sklearn.metrics import confusion_matrix\n",
    "\n",
    "#Plotting\n",
    "import seaborn as sns\n",
    "import matplotlib.pyplot as plt\n",
    "\n",
    "%matplotlib inline"
   ],
   "metadata": {
    "collapsed": true,
    "ExecuteTime": {
     "end_time": "2024-11-08T06:27:11.985133Z",
     "start_time": "2024-11-08T06:27:11.757238Z"
    }
   },
   "id": "initial_id",
   "execution_count": 2
  },
  {
   "cell_type": "markdown",
   "source": [
    "Loading Data Sets"
   ],
   "metadata": {
    "collapsed": false
   },
   "id": "16ca3c7fa95bd08f"
  },
  {
   "cell_type": "code",
   "outputs": [
    {
     "name": "stdout",
     "output_type": "stream",
     "text": [
      "NBA_2009_Shots.csv\n",
      "NBA_2004_Shots.csv\n",
      "NBA_2010_Shots.csv\n",
      "NBA_2016_Shots.csv\n",
      "NBA_2023_Shots.csv\n",
      "NBA_2008_Shots.csv\n",
      "NBA_2024_Shots.csv\n",
      "NBA_2011_Shots.csv\n",
      "NBA_2005_Shots.csv\n",
      "NBA_2017_Shots.csv\n",
      "NBA_2022_Shots.csv\n",
      "NBA_2006_Shots.csv\n",
      "NBA_2012_Shots.csv\n",
      "NBA_2019_Shots.csv\n",
      "NBA_2021_Shots.csv\n",
      "NBA_2014_Shots.csv\n",
      "NBA_2013_Shots.csv\n",
      "NBA_2007_Shots.csv\n",
      "NBA_2018_Shots.csv\n",
      "NBA_2020_Shots.csv\n",
      "NBA_2015_Shots.csv\n"
     ]
    }
   ],
   "source": [
    "# set up respective path to the data\n",
    "project_root = os.path.abspath(os.path.join(\"..\"))\n",
    "data_path = os.path.join(project_root, \"raw-data/\")\n",
    "\n",
    "# concatenate all seasons of data in a single df\n",
    "df=pd.DataFrame()\n",
    "for file in os.listdir(data_path):\n",
    "    file_path=os.path.join(data_path,file)\n",
    "    data=pd.read_csv(file_path)\n",
    "    df=pd.concat([df,data],ignore_index=True)\n",
    "    print(file)\n"
   ],
   "metadata": {
    "collapsed": false,
    "ExecuteTime": {
     "end_time": "2024-11-08T06:27:20.447150Z",
     "start_time": "2024-11-08T06:27:11.985692Z"
    }
   },
   "id": "ace66250e977e0bd",
   "execution_count": 3
  },
  {
   "cell_type": "code",
   "outputs": [
    {
     "name": "stdout",
     "output_type": "stream",
     "text": [
      "Number of duplicate rows: 192\n",
      "Leagues DF dtypes:\n",
      "SEASON_1            int64\n",
      "SEASON_2           object\n",
      "TEAM_ID             int64\n",
      "TEAM_NAME          object\n",
      "PLAYER_ID           int64\n",
      "PLAYER_NAME        object\n",
      "POSITION_GROUP     object\n",
      "POSITION           object\n",
      "GAME_DATE          object\n",
      "GAME_ID             int64\n",
      "HOME_TEAM          object\n",
      "AWAY_TEAM          object\n",
      "EVENT_TYPE         object\n",
      "SHOT_MADE            bool\n",
      "ACTION_TYPE        object\n",
      "SHOT_TYPE          object\n",
      "BASIC_ZONE         object\n",
      "ZONE_NAME          object\n",
      "ZONE_ABB           object\n",
      "ZONE_RANGE         object\n",
      "LOC_X             float64\n",
      "LOC_Y             float64\n",
      "SHOT_DISTANCE       int64\n",
      "QUARTER             int64\n",
      "MINS_LEFT           int64\n",
      "SECS_LEFT           int64\n",
      "dtype: object\n",
      "----------------------------\n",
      "Leagues DF describe:\n",
      "           SEASON_1       TEAM_ID     PLAYER_ID       GAME_ID         LOC_X  \\\n",
      "count  4.231262e+06  4.231262e+06  4.231262e+06  4.231262e+06  4.231262e+06   \n",
      "mean   2.014191e+03  1.610613e+09  4.136611e+05  2.131969e+07  9.484016e-02   \n",
      "std    6.075766e+00  8.637604e+00  6.151205e+05  6.075733e+05  1.026536e+01   \n",
      "min    2.004000e+03  1.610613e+09  1.500000e+01  2.030000e+07 -2.500000e+01   \n",
      "25%    2.009000e+03  1.610613e+09  2.544000e+03  2.080049e+07 -2.900000e+00   \n",
      "50%    2.014000e+03  1.610613e+09  2.015710e+05  2.130105e+07 -0.000000e+00   \n",
      "75%    2.019000e+03  1.610613e+09  2.035150e+05  2.180109e+07  2.900000e+00   \n",
      "max    2.024000e+03  1.610613e+09  1.642013e+06  2.230123e+07  2.500000e+01   \n",
      "\n",
      "              LOC_Y  SHOT_DISTANCE       QUARTER     MINS_LEFT     SECS_LEFT  \n",
      "count  4.231262e+06   4.231262e+06  4.231262e+06  4.231262e+06  4.231262e+06  \n",
      "mean   1.239007e+01   1.256117e+01  2.480653e+00  5.339453e+00  2.877145e+01  \n",
      "std    8.554501e+00   1.012375e+01  1.137499e+00  3.463006e+00  1.744952e+01  \n",
      "min    5.000000e-02   0.000000e+00  1.000000e+00  0.000000e+00  0.000000e+00  \n",
      "25%    5.875000e+00   2.000000e+00  1.000000e+00  2.000000e+00  1.400000e+01  \n",
      "50%    8.050000e+00   1.300000e+01  2.000000e+00  5.000000e+00  2.900000e+01  \n",
      "75%    1.875000e+01   2.300000e+01  3.000000e+00  8.000000e+00  4.400000e+01  \n",
      "max    9.365000e+01   8.900000e+01  8.000000e+00  1.200000e+01  5.900000e+01  \n",
      "----------------------------\n",
      "Check for Null values:\n",
      "SEASON_1             0\n",
      "SEASON_2             0\n",
      "TEAM_ID              0\n",
      "TEAM_NAME            0\n",
      "PLAYER_ID            0\n",
      "PLAYER_NAME          0\n",
      "POSITION_GROUP    7930\n",
      "POSITION          7930\n",
      "GAME_DATE            0\n",
      "GAME_ID              0\n",
      "HOME_TEAM            0\n",
      "AWAY_TEAM            0\n",
      "EVENT_TYPE           0\n",
      "SHOT_MADE            0\n",
      "ACTION_TYPE          0\n",
      "SHOT_TYPE            0\n",
      "BASIC_ZONE           0\n",
      "ZONE_NAME            0\n",
      "ZONE_ABB             0\n",
      "ZONE_RANGE           0\n",
      "LOC_X                0\n",
      "LOC_Y                0\n",
      "SHOT_DISTANCE        0\n",
      "QUARTER              0\n",
      "MINS_LEFT            0\n",
      "SECS_LEFT            0\n",
      "dtype: int64\n",
      "----------------------------\n",
      "First 5 row of the dataset\n"
     ]
    },
    {
     "data": {
      "text/plain": "   SEASON_1 SEASON_2     TEAM_ID              TEAM_NAME  PLAYER_ID  \\\n0      2009  2008-09  1610612744  Golden State Warriors     201627   \n1      2009  2008-09  1610612744  Golden State Warriors     101235   \n2      2009  2008-09  1610612756           Phoenix Suns        255   \n3      2009  2008-09  1610612739    Cleveland Cavaliers     200789   \n4      2009  2008-09  1610612756           Phoenix Suns        255   \n\n        PLAYER_NAME POSITION_GROUP POSITION   GAME_DATE   GAME_ID  ...  \\\n0    Anthony Morrow              G       SG  04-15-2009  20801229  ...   \n1  Kelenna Azubuike              F       SF  04-15-2009  20801229  ...   \n2        Grant Hill              F       SF  04-15-2009  20801229  ...   \n3     Daniel Gibson              G       PG  04-15-2009  20801219  ...   \n4        Grant Hill              F       SF  04-15-2009  20801229  ...   \n\n        BASIC_ZONE  ZONE_NAME ZONE_ABB       ZONE_RANGE LOC_X LOC_Y  \\\n0  Restricted Area     Center        C  Less Than 8 ft.  -0.0  5.25   \n1  Restricted Area     Center        C  Less Than 8 ft.  -0.0  5.25   \n2  Restricted Area     Center        C  Less Than 8 ft.  -0.0  5.25   \n3  Restricted Area     Center        C  Less Than 8 ft.  -0.2  5.25   \n4        Mid-Range  Left Side        L         8-16 ft.   8.7  7.55   \n\n  SHOT_DISTANCE QUARTER MINS_LEFT SECS_LEFT  \n0             0       4         0         1  \n1             0       4         0         9  \n2             0       4         0        25  \n3             0       5         0         4  \n4             8       4         1         3  \n\n[5 rows x 26 columns]",
      "text/html": "<div>\n<style scoped>\n    .dataframe tbody tr th:only-of-type {\n        vertical-align: middle;\n    }\n\n    .dataframe tbody tr th {\n        vertical-align: top;\n    }\n\n    .dataframe thead th {\n        text-align: right;\n    }\n</style>\n<table border=\"1\" class=\"dataframe\">\n  <thead>\n    <tr style=\"text-align: right;\">\n      <th></th>\n      <th>SEASON_1</th>\n      <th>SEASON_2</th>\n      <th>TEAM_ID</th>\n      <th>TEAM_NAME</th>\n      <th>PLAYER_ID</th>\n      <th>PLAYER_NAME</th>\n      <th>POSITION_GROUP</th>\n      <th>POSITION</th>\n      <th>GAME_DATE</th>\n      <th>GAME_ID</th>\n      <th>...</th>\n      <th>BASIC_ZONE</th>\n      <th>ZONE_NAME</th>\n      <th>ZONE_ABB</th>\n      <th>ZONE_RANGE</th>\n      <th>LOC_X</th>\n      <th>LOC_Y</th>\n      <th>SHOT_DISTANCE</th>\n      <th>QUARTER</th>\n      <th>MINS_LEFT</th>\n      <th>SECS_LEFT</th>\n    </tr>\n  </thead>\n  <tbody>\n    <tr>\n      <th>0</th>\n      <td>2009</td>\n      <td>2008-09</td>\n      <td>1610612744</td>\n      <td>Golden State Warriors</td>\n      <td>201627</td>\n      <td>Anthony Morrow</td>\n      <td>G</td>\n      <td>SG</td>\n      <td>04-15-2009</td>\n      <td>20801229</td>\n      <td>...</td>\n      <td>Restricted Area</td>\n      <td>Center</td>\n      <td>C</td>\n      <td>Less Than 8 ft.</td>\n      <td>-0.0</td>\n      <td>5.25</td>\n      <td>0</td>\n      <td>4</td>\n      <td>0</td>\n      <td>1</td>\n    </tr>\n    <tr>\n      <th>1</th>\n      <td>2009</td>\n      <td>2008-09</td>\n      <td>1610612744</td>\n      <td>Golden State Warriors</td>\n      <td>101235</td>\n      <td>Kelenna Azubuike</td>\n      <td>F</td>\n      <td>SF</td>\n      <td>04-15-2009</td>\n      <td>20801229</td>\n      <td>...</td>\n      <td>Restricted Area</td>\n      <td>Center</td>\n      <td>C</td>\n      <td>Less Than 8 ft.</td>\n      <td>-0.0</td>\n      <td>5.25</td>\n      <td>0</td>\n      <td>4</td>\n      <td>0</td>\n      <td>9</td>\n    </tr>\n    <tr>\n      <th>2</th>\n      <td>2009</td>\n      <td>2008-09</td>\n      <td>1610612756</td>\n      <td>Phoenix Suns</td>\n      <td>255</td>\n      <td>Grant Hill</td>\n      <td>F</td>\n      <td>SF</td>\n      <td>04-15-2009</td>\n      <td>20801229</td>\n      <td>...</td>\n      <td>Restricted Area</td>\n      <td>Center</td>\n      <td>C</td>\n      <td>Less Than 8 ft.</td>\n      <td>-0.0</td>\n      <td>5.25</td>\n      <td>0</td>\n      <td>4</td>\n      <td>0</td>\n      <td>25</td>\n    </tr>\n    <tr>\n      <th>3</th>\n      <td>2009</td>\n      <td>2008-09</td>\n      <td>1610612739</td>\n      <td>Cleveland Cavaliers</td>\n      <td>200789</td>\n      <td>Daniel Gibson</td>\n      <td>G</td>\n      <td>PG</td>\n      <td>04-15-2009</td>\n      <td>20801219</td>\n      <td>...</td>\n      <td>Restricted Area</td>\n      <td>Center</td>\n      <td>C</td>\n      <td>Less Than 8 ft.</td>\n      <td>-0.2</td>\n      <td>5.25</td>\n      <td>0</td>\n      <td>5</td>\n      <td>0</td>\n      <td>4</td>\n    </tr>\n    <tr>\n      <th>4</th>\n      <td>2009</td>\n      <td>2008-09</td>\n      <td>1610612756</td>\n      <td>Phoenix Suns</td>\n      <td>255</td>\n      <td>Grant Hill</td>\n      <td>F</td>\n      <td>SF</td>\n      <td>04-15-2009</td>\n      <td>20801229</td>\n      <td>...</td>\n      <td>Mid-Range</td>\n      <td>Left Side</td>\n      <td>L</td>\n      <td>8-16 ft.</td>\n      <td>8.7</td>\n      <td>7.55</td>\n      <td>8</td>\n      <td>4</td>\n      <td>1</td>\n      <td>3</td>\n    </tr>\n  </tbody>\n</table>\n<p>5 rows × 26 columns</p>\n</div>"
     },
     "execution_count": 4,
     "metadata": {},
     "output_type": "execute_result"
    }
   ],
   "source": [
    "# inspect the Leagues data set\n",
    "print(\"Number of duplicate rows: \" + str(df.duplicated().sum()))\n",
    "print(\"Leagues DF dtypes:\")\n",
    "print(df.dtypes)\n",
    "print(\"----------------------------\\nLeagues DF describe:\")\n",
    "print(df.describe())\n",
    "print(\"----------------------------\\nCheck for Null values:\")\n",
    "print(df.isna().sum())\n",
    "print(\"----------------------------\\nFirst 5 row of the dataset\")\n",
    "df.head()"
   ],
   "metadata": {
    "collapsed": false,
    "ExecuteTime": {
     "end_time": "2024-11-08T06:27:24.662414Z",
     "start_time": "2024-11-08T06:27:20.448474Z"
    }
   },
   "id": "4d15daaa5c28ebf8",
   "execution_count": 4
  },
  {
   "cell_type": "code",
   "outputs": [
    {
     "data": {
      "text/plain": "   SEASON_1 SEASON_2     TEAM_ID              TEAM_NAME  PLAYER_ID  \\\n0      2009  2008-09  1610612744  Golden State Warriors     201627   \n1      2009  2008-09  1610612744  Golden State Warriors     101235   \n2      2009  2008-09  1610612756           Phoenix Suns        255   \n3      2009  2008-09  1610612739    Cleveland Cavaliers     200789   \n4      2009  2008-09  1610612756           Phoenix Suns        255   \n\n        PLAYER_NAME POSITION_GROUP POSITION   GAME_DATE   GAME_ID  ...  \\\n0    Anthony Morrow              G       SG  04-15-2009  20801229  ...   \n1  Kelenna Azubuike              F       SF  04-15-2009  20801229  ...   \n2        Grant Hill              F       SF  04-15-2009  20801229  ...   \n3     Daniel Gibson              G       PG  04-15-2009  20801219  ...   \n4        Grant Hill              F       SF  04-15-2009  20801229  ...   \n\n        BASIC_ZONE  ZONE_NAME ZONE_ABB       ZONE_RANGE LOC_X LOC_Y  \\\n0  Restricted Area     Center        C  Less Than 8 ft.  -0.0  5.25   \n1  Restricted Area     Center        C  Less Than 8 ft.  -0.0  5.25   \n2  Restricted Area     Center        C  Less Than 8 ft.  -0.0  5.25   \n3  Restricted Area     Center        C  Less Than 8 ft.  -0.2  5.25   \n4        Mid-Range  Left Side        L         8-16 ft.   8.7  7.55   \n\n  SHOT_DISTANCE QUARTER MINS_LEFT SECS_LEFT  \n0             0       4         0         1  \n1             0       4         0         9  \n2             0       4         0        25  \n3             0       5         0         4  \n4             8       4         1         3  \n\n[5 rows x 26 columns]",
      "text/html": "<div>\n<style scoped>\n    .dataframe tbody tr th:only-of-type {\n        vertical-align: middle;\n    }\n\n    .dataframe tbody tr th {\n        vertical-align: top;\n    }\n\n    .dataframe thead th {\n        text-align: right;\n    }\n</style>\n<table border=\"1\" class=\"dataframe\">\n  <thead>\n    <tr style=\"text-align: right;\">\n      <th></th>\n      <th>SEASON_1</th>\n      <th>SEASON_2</th>\n      <th>TEAM_ID</th>\n      <th>TEAM_NAME</th>\n      <th>PLAYER_ID</th>\n      <th>PLAYER_NAME</th>\n      <th>POSITION_GROUP</th>\n      <th>POSITION</th>\n      <th>GAME_DATE</th>\n      <th>GAME_ID</th>\n      <th>...</th>\n      <th>BASIC_ZONE</th>\n      <th>ZONE_NAME</th>\n      <th>ZONE_ABB</th>\n      <th>ZONE_RANGE</th>\n      <th>LOC_X</th>\n      <th>LOC_Y</th>\n      <th>SHOT_DISTANCE</th>\n      <th>QUARTER</th>\n      <th>MINS_LEFT</th>\n      <th>SECS_LEFT</th>\n    </tr>\n  </thead>\n  <tbody>\n    <tr>\n      <th>0</th>\n      <td>2009</td>\n      <td>2008-09</td>\n      <td>1610612744</td>\n      <td>Golden State Warriors</td>\n      <td>201627</td>\n      <td>Anthony Morrow</td>\n      <td>G</td>\n      <td>SG</td>\n      <td>04-15-2009</td>\n      <td>20801229</td>\n      <td>...</td>\n      <td>Restricted Area</td>\n      <td>Center</td>\n      <td>C</td>\n      <td>Less Than 8 ft.</td>\n      <td>-0.0</td>\n      <td>5.25</td>\n      <td>0</td>\n      <td>4</td>\n      <td>0</td>\n      <td>1</td>\n    </tr>\n    <tr>\n      <th>1</th>\n      <td>2009</td>\n      <td>2008-09</td>\n      <td>1610612744</td>\n      <td>Golden State Warriors</td>\n      <td>101235</td>\n      <td>Kelenna Azubuike</td>\n      <td>F</td>\n      <td>SF</td>\n      <td>04-15-2009</td>\n      <td>20801229</td>\n      <td>...</td>\n      <td>Restricted Area</td>\n      <td>Center</td>\n      <td>C</td>\n      <td>Less Than 8 ft.</td>\n      <td>-0.0</td>\n      <td>5.25</td>\n      <td>0</td>\n      <td>4</td>\n      <td>0</td>\n      <td>9</td>\n    </tr>\n    <tr>\n      <th>2</th>\n      <td>2009</td>\n      <td>2008-09</td>\n      <td>1610612756</td>\n      <td>Phoenix Suns</td>\n      <td>255</td>\n      <td>Grant Hill</td>\n      <td>F</td>\n      <td>SF</td>\n      <td>04-15-2009</td>\n      <td>20801229</td>\n      <td>...</td>\n      <td>Restricted Area</td>\n      <td>Center</td>\n      <td>C</td>\n      <td>Less Than 8 ft.</td>\n      <td>-0.0</td>\n      <td>5.25</td>\n      <td>0</td>\n      <td>4</td>\n      <td>0</td>\n      <td>25</td>\n    </tr>\n    <tr>\n      <th>3</th>\n      <td>2009</td>\n      <td>2008-09</td>\n      <td>1610612739</td>\n      <td>Cleveland Cavaliers</td>\n      <td>200789</td>\n      <td>Daniel Gibson</td>\n      <td>G</td>\n      <td>PG</td>\n      <td>04-15-2009</td>\n      <td>20801219</td>\n      <td>...</td>\n      <td>Restricted Area</td>\n      <td>Center</td>\n      <td>C</td>\n      <td>Less Than 8 ft.</td>\n      <td>-0.2</td>\n      <td>5.25</td>\n      <td>0</td>\n      <td>5</td>\n      <td>0</td>\n      <td>4</td>\n    </tr>\n    <tr>\n      <th>4</th>\n      <td>2009</td>\n      <td>2008-09</td>\n      <td>1610612756</td>\n      <td>Phoenix Suns</td>\n      <td>255</td>\n      <td>Grant Hill</td>\n      <td>F</td>\n      <td>SF</td>\n      <td>04-15-2009</td>\n      <td>20801229</td>\n      <td>...</td>\n      <td>Mid-Range</td>\n      <td>Left Side</td>\n      <td>L</td>\n      <td>8-16 ft.</td>\n      <td>8.7</td>\n      <td>7.55</td>\n      <td>8</td>\n      <td>4</td>\n      <td>1</td>\n      <td>3</td>\n    </tr>\n  </tbody>\n</table>\n<p>5 rows × 26 columns</p>\n</div>"
     },
     "execution_count": 5,
     "metadata": {},
     "output_type": "execute_result"
    }
   ],
   "source": [
    "df_clean = df.drop_duplicates()\n",
    "df_clean.head()"
   ],
   "metadata": {
    "collapsed": false,
    "ExecuteTime": {
     "end_time": "2024-11-08T06:27:27.580373Z",
     "start_time": "2024-11-08T06:27:24.663258Z"
    }
   },
   "id": "248e1d9cef4e6279",
   "execution_count": 5
  },
  {
   "cell_type": "code",
   "outputs": [
    {
     "name": "stdout",
     "output_type": "stream",
     "text": [
      "Number of rows containing NA values:\n",
      "POSITION_GROUP    7930\n",
      "POSITION          7930\n",
      "dtype: int64\n"
     ]
    },
    {
     "data": {
      "text/plain": "         SEASON_1 SEASON_2     TEAM_ID          TEAM_NAME  PLAYER_ID  \\\n812184       2023  2022-23  1610612761    Toronto Raptors    1628384   \n812187       2023  2022-23  1610612761    Toronto Raptors    1628384   \n812199       2023  2022-23  1610612761    Toronto Raptors    1628384   \n812207       2023  2022-23  1610612761    Toronto Raptors    1628384   \n812222       2023  2022-23  1610612761    Toronto Raptors    1628384   \n...           ...      ...         ...                ...        ...   \n4157912      2015  2014-15  1610612766  Charlotte Hornets     203106   \n4157940      2015  2014-15  1610612766  Charlotte Hornets     203106   \n4158003      2015  2014-15  1610612766  Charlotte Hornets     203106   \n4162561      2015  2014-15  1610612766  Charlotte Hornets     203106   \n4162592      2015  2014-15  1610612766  Charlotte Hornets     203106   \n\n            PLAYER_NAME POSITION_GROUP POSITION   GAME_DATE   GAME_ID  ...  \\\n812184     O.G. Anunoby            NaN      NaN  10-19-2022  22200008  ...   \n812187     O.G. Anunoby            NaN      NaN  10-19-2022  22200008  ...   \n812199     O.G. Anunoby            NaN      NaN  10-19-2022  22200008  ...   \n812207     O.G. Anunoby            NaN      NaN  10-19-2022  22200008  ...   \n812222     O.G. Anunoby            NaN      NaN  10-19-2022  22200008  ...   \n...                 ...            ...      ...         ...       ...  ...   \n4157912  Jeffery Taylor            NaN      NaN  12-26-2014  21400438  ...   \n4157940  Jeffery Taylor            NaN      NaN  12-26-2014  21400438  ...   \n4158003  Jeffery Taylor            NaN      NaN  12-26-2014  21400438  ...   \n4162561  Jeffery Taylor            NaN      NaN  12-22-2014  21400409  ...   \n4162592  Jeffery Taylor            NaN      NaN  12-22-2014  21400409  ...   \n\n                    BASIC_ZONE          ZONE_NAME ZONE_ABB       ZONE_RANGE  \\\n812184       Above the Break 3   Left Side Center       LC          24+ ft.   \n812187   In The Paint (Non-RA)          Left Side        L         8-16 ft.   \n812199       Above the Break 3  Right Side Center       RC          24+ ft.   \n812207   In The Paint (Non-RA)             Center        C  Less Than 8 ft.   \n812222         Restricted Area             Center        C  Less Than 8 ft.   \n...                        ...                ...      ...              ...   \n4157912        Restricted Area             Center        C  Less Than 8 ft.   \n4157940              Mid-Range         Right Side        R         8-16 ft.   \n4158003        Restricted Area             Center        C  Less Than 8 ft.   \n4162561         Right Corner 3         Right Side        R          24+ ft.   \n4162592        Restricted Area             Center        C  Less Than 8 ft.   \n\n        LOC_X  LOC_Y SHOT_DISTANCE QUARTER MINS_LEFT SECS_LEFT  \n812184   15.0  26.95            26       1        11        23  \n812187    5.6  14.45            10       1         9        42  \n812199   -8.9  29.35            25       1         1        15  \n812207    2.1  10.05             5       2         9        24  \n812222   -0.1   4.65             0       2         1        54  \n...       ...    ...           ...     ...       ...       ...  \n4157912  -0.1   7.45             2       4         2        49  \n4157940 -11.9   5.05            11       4         4         5  \n4158003  -1.5   5.05             1       4         6        59  \n4162561 -23.6   6.35            23       4         2        14  \n4162592  -2.1   5.25             2       4         3        41  \n\n[7930 rows x 26 columns]",
      "text/html": "<div>\n<style scoped>\n    .dataframe tbody tr th:only-of-type {\n        vertical-align: middle;\n    }\n\n    .dataframe tbody tr th {\n        vertical-align: top;\n    }\n\n    .dataframe thead th {\n        text-align: right;\n    }\n</style>\n<table border=\"1\" class=\"dataframe\">\n  <thead>\n    <tr style=\"text-align: right;\">\n      <th></th>\n      <th>SEASON_1</th>\n      <th>SEASON_2</th>\n      <th>TEAM_ID</th>\n      <th>TEAM_NAME</th>\n      <th>PLAYER_ID</th>\n      <th>PLAYER_NAME</th>\n      <th>POSITION_GROUP</th>\n      <th>POSITION</th>\n      <th>GAME_DATE</th>\n      <th>GAME_ID</th>\n      <th>...</th>\n      <th>BASIC_ZONE</th>\n      <th>ZONE_NAME</th>\n      <th>ZONE_ABB</th>\n      <th>ZONE_RANGE</th>\n      <th>LOC_X</th>\n      <th>LOC_Y</th>\n      <th>SHOT_DISTANCE</th>\n      <th>QUARTER</th>\n      <th>MINS_LEFT</th>\n      <th>SECS_LEFT</th>\n    </tr>\n  </thead>\n  <tbody>\n    <tr>\n      <th>812184</th>\n      <td>2023</td>\n      <td>2022-23</td>\n      <td>1610612761</td>\n      <td>Toronto Raptors</td>\n      <td>1628384</td>\n      <td>O.G. Anunoby</td>\n      <td>NaN</td>\n      <td>NaN</td>\n      <td>10-19-2022</td>\n      <td>22200008</td>\n      <td>...</td>\n      <td>Above the Break 3</td>\n      <td>Left Side Center</td>\n      <td>LC</td>\n      <td>24+ ft.</td>\n      <td>15.0</td>\n      <td>26.95</td>\n      <td>26</td>\n      <td>1</td>\n      <td>11</td>\n      <td>23</td>\n    </tr>\n    <tr>\n      <th>812187</th>\n      <td>2023</td>\n      <td>2022-23</td>\n      <td>1610612761</td>\n      <td>Toronto Raptors</td>\n      <td>1628384</td>\n      <td>O.G. Anunoby</td>\n      <td>NaN</td>\n      <td>NaN</td>\n      <td>10-19-2022</td>\n      <td>22200008</td>\n      <td>...</td>\n      <td>In The Paint (Non-RA)</td>\n      <td>Left Side</td>\n      <td>L</td>\n      <td>8-16 ft.</td>\n      <td>5.6</td>\n      <td>14.45</td>\n      <td>10</td>\n      <td>1</td>\n      <td>9</td>\n      <td>42</td>\n    </tr>\n    <tr>\n      <th>812199</th>\n      <td>2023</td>\n      <td>2022-23</td>\n      <td>1610612761</td>\n      <td>Toronto Raptors</td>\n      <td>1628384</td>\n      <td>O.G. Anunoby</td>\n      <td>NaN</td>\n      <td>NaN</td>\n      <td>10-19-2022</td>\n      <td>22200008</td>\n      <td>...</td>\n      <td>Above the Break 3</td>\n      <td>Right Side Center</td>\n      <td>RC</td>\n      <td>24+ ft.</td>\n      <td>-8.9</td>\n      <td>29.35</td>\n      <td>25</td>\n      <td>1</td>\n      <td>1</td>\n      <td>15</td>\n    </tr>\n    <tr>\n      <th>812207</th>\n      <td>2023</td>\n      <td>2022-23</td>\n      <td>1610612761</td>\n      <td>Toronto Raptors</td>\n      <td>1628384</td>\n      <td>O.G. Anunoby</td>\n      <td>NaN</td>\n      <td>NaN</td>\n      <td>10-19-2022</td>\n      <td>22200008</td>\n      <td>...</td>\n      <td>In The Paint (Non-RA)</td>\n      <td>Center</td>\n      <td>C</td>\n      <td>Less Than 8 ft.</td>\n      <td>2.1</td>\n      <td>10.05</td>\n      <td>5</td>\n      <td>2</td>\n      <td>9</td>\n      <td>24</td>\n    </tr>\n    <tr>\n      <th>812222</th>\n      <td>2023</td>\n      <td>2022-23</td>\n      <td>1610612761</td>\n      <td>Toronto Raptors</td>\n      <td>1628384</td>\n      <td>O.G. Anunoby</td>\n      <td>NaN</td>\n      <td>NaN</td>\n      <td>10-19-2022</td>\n      <td>22200008</td>\n      <td>...</td>\n      <td>Restricted Area</td>\n      <td>Center</td>\n      <td>C</td>\n      <td>Less Than 8 ft.</td>\n      <td>-0.1</td>\n      <td>4.65</td>\n      <td>0</td>\n      <td>2</td>\n      <td>1</td>\n      <td>54</td>\n    </tr>\n    <tr>\n      <th>...</th>\n      <td>...</td>\n      <td>...</td>\n      <td>...</td>\n      <td>...</td>\n      <td>...</td>\n      <td>...</td>\n      <td>...</td>\n      <td>...</td>\n      <td>...</td>\n      <td>...</td>\n      <td>...</td>\n      <td>...</td>\n      <td>...</td>\n      <td>...</td>\n      <td>...</td>\n      <td>...</td>\n      <td>...</td>\n      <td>...</td>\n      <td>...</td>\n      <td>...</td>\n      <td>...</td>\n    </tr>\n    <tr>\n      <th>4157912</th>\n      <td>2015</td>\n      <td>2014-15</td>\n      <td>1610612766</td>\n      <td>Charlotte Hornets</td>\n      <td>203106</td>\n      <td>Jeffery Taylor</td>\n      <td>NaN</td>\n      <td>NaN</td>\n      <td>12-26-2014</td>\n      <td>21400438</td>\n      <td>...</td>\n      <td>Restricted Area</td>\n      <td>Center</td>\n      <td>C</td>\n      <td>Less Than 8 ft.</td>\n      <td>-0.1</td>\n      <td>7.45</td>\n      <td>2</td>\n      <td>4</td>\n      <td>2</td>\n      <td>49</td>\n    </tr>\n    <tr>\n      <th>4157940</th>\n      <td>2015</td>\n      <td>2014-15</td>\n      <td>1610612766</td>\n      <td>Charlotte Hornets</td>\n      <td>203106</td>\n      <td>Jeffery Taylor</td>\n      <td>NaN</td>\n      <td>NaN</td>\n      <td>12-26-2014</td>\n      <td>21400438</td>\n      <td>...</td>\n      <td>Mid-Range</td>\n      <td>Right Side</td>\n      <td>R</td>\n      <td>8-16 ft.</td>\n      <td>-11.9</td>\n      <td>5.05</td>\n      <td>11</td>\n      <td>4</td>\n      <td>4</td>\n      <td>5</td>\n    </tr>\n    <tr>\n      <th>4158003</th>\n      <td>2015</td>\n      <td>2014-15</td>\n      <td>1610612766</td>\n      <td>Charlotte Hornets</td>\n      <td>203106</td>\n      <td>Jeffery Taylor</td>\n      <td>NaN</td>\n      <td>NaN</td>\n      <td>12-26-2014</td>\n      <td>21400438</td>\n      <td>...</td>\n      <td>Restricted Area</td>\n      <td>Center</td>\n      <td>C</td>\n      <td>Less Than 8 ft.</td>\n      <td>-1.5</td>\n      <td>5.05</td>\n      <td>1</td>\n      <td>4</td>\n      <td>6</td>\n      <td>59</td>\n    </tr>\n    <tr>\n      <th>4162561</th>\n      <td>2015</td>\n      <td>2014-15</td>\n      <td>1610612766</td>\n      <td>Charlotte Hornets</td>\n      <td>203106</td>\n      <td>Jeffery Taylor</td>\n      <td>NaN</td>\n      <td>NaN</td>\n      <td>12-22-2014</td>\n      <td>21400409</td>\n      <td>...</td>\n      <td>Right Corner 3</td>\n      <td>Right Side</td>\n      <td>R</td>\n      <td>24+ ft.</td>\n      <td>-23.6</td>\n      <td>6.35</td>\n      <td>23</td>\n      <td>4</td>\n      <td>2</td>\n      <td>14</td>\n    </tr>\n    <tr>\n      <th>4162592</th>\n      <td>2015</td>\n      <td>2014-15</td>\n      <td>1610612766</td>\n      <td>Charlotte Hornets</td>\n      <td>203106</td>\n      <td>Jeffery Taylor</td>\n      <td>NaN</td>\n      <td>NaN</td>\n      <td>12-22-2014</td>\n      <td>21400409</td>\n      <td>...</td>\n      <td>Restricted Area</td>\n      <td>Center</td>\n      <td>C</td>\n      <td>Less Than 8 ft.</td>\n      <td>-2.1</td>\n      <td>5.25</td>\n      <td>2</td>\n      <td>4</td>\n      <td>3</td>\n      <td>41</td>\n    </tr>\n  </tbody>\n</table>\n<p>7930 rows × 26 columns</p>\n</div>"
     },
     "execution_count": 6,
     "metadata": {},
     "output_type": "execute_result"
    }
   ],
   "source": [
    "#TODO:\n",
    "print(\"Number of rows containing NA values:\\n\" + str(df_clean.isna().sum()[df_clean.isna().sum()>0]))\n",
    "df_clean[df_clean[\"POSITION_GROUP\"].isna() | df_clean[\"POSITION\"].isna()]"
   ],
   "metadata": {
    "collapsed": false,
    "ExecuteTime": {
     "end_time": "2024-11-08T06:27:29.659333Z",
     "start_time": "2024-11-08T06:27:27.581329Z"
    }
   },
   "id": "5902d9b36e45b873",
   "execution_count": 6
  },
  {
   "cell_type": "code",
   "outputs": [
    {
     "data": {
      "text/plain": "4231070"
     },
     "execution_count": 7,
     "metadata": {},
     "output_type": "execute_result"
    }
   ],
   "source": [
    "conn = sqlite3.connect(\"database.db\")\n",
    "\n",
    "df_clean.to_sql(\"nba\", conn, if_exists=\"replace\", index=False)\n"
   ],
   "metadata": {
    "collapsed": false,
    "ExecuteTime": {
     "end_time": "2024-11-08T06:27:41.780352Z",
     "start_time": "2024-11-08T06:27:29.660170Z"
    }
   },
   "id": "7f2f59a57e28e4dd",
   "execution_count": 7
  },
  {
   "cell_type": "code",
   "outputs": [],
   "source": [
    "conn.close()"
   ],
   "metadata": {
    "collapsed": false,
    "ExecuteTime": {
     "end_time": "2024-11-08T06:27:41.783233Z",
     "start_time": "2024-11-08T06:27:41.781087Z"
    }
   },
   "id": "42a5a2a73fd469f",
   "execution_count": 8
  }
 ],
 "metadata": {
  "kernelspec": {
   "display_name": "Python 3",
   "language": "python",
   "name": "python3"
  },
  "language_info": {
   "codemirror_mode": {
    "name": "ipython",
    "version": 2
   },
   "file_extension": ".py",
   "mimetype": "text/x-python",
   "name": "python",
   "nbconvert_exporter": "python",
   "pygments_lexer": "ipython2",
   "version": "2.7.6"
  }
 },
 "nbformat": 4,
 "nbformat_minor": 5
}
