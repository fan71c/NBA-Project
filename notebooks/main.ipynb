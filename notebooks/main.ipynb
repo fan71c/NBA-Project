{
 "cells": [
  {
   "cell_type": "code",
   "outputs": [
    {
     "name": "stdout",
     "output_type": "stream",
     "text": [
      "Requirement already satisfied: scikit-learn in /Users/fant1c/miniconda3/envs/project-cis-5450/lib/python3.8/site-packages (1.3.2)\r\n",
      "Requirement already satisfied: numpy<2.0,>=1.17.3 in /Users/fant1c/miniconda3/envs/project-cis-5450/lib/python3.8/site-packages (from scikit-learn) (1.24.3)\r\n",
      "Requirement already satisfied: scipy>=1.5.0 in /Users/fant1c/miniconda3/envs/project-cis-5450/lib/python3.8/site-packages (from scikit-learn) (1.10.1)\r\n",
      "Requirement already satisfied: joblib>=1.1.1 in /Users/fant1c/miniconda3/envs/project-cis-5450/lib/python3.8/site-packages (from scikit-learn) (1.4.2)\r\n",
      "Requirement already satisfied: threadpoolctl>=2.0.0 in /Users/fant1c/miniconda3/envs/project-cis-5450/lib/python3.8/site-packages (from scikit-learn) (3.5.0)\r\n",
      "Requirement already satisfied: seaborn in /Users/fant1c/miniconda3/envs/project-cis-5450/lib/python3.8/site-packages (0.13.2)\r\n",
      "Requirement already satisfied: numpy!=1.24.0,>=1.20 in /Users/fant1c/miniconda3/envs/project-cis-5450/lib/python3.8/site-packages (from seaborn) (1.24.3)\r\n",
      "Requirement already satisfied: pandas>=1.2 in /Users/fant1c/miniconda3/envs/project-cis-5450/lib/python3.8/site-packages (from seaborn) (2.0.3)\r\n",
      "Requirement already satisfied: matplotlib!=3.6.1,>=3.4 in /Users/fant1c/miniconda3/envs/project-cis-5450/lib/python3.8/site-packages (from seaborn) (3.7.5)\r\n",
      "Requirement already satisfied: contourpy>=1.0.1 in /Users/fant1c/miniconda3/envs/project-cis-5450/lib/python3.8/site-packages (from matplotlib!=3.6.1,>=3.4->seaborn) (1.1.1)\r\n",
      "Requirement already satisfied: cycler>=0.10 in /Users/fant1c/miniconda3/envs/project-cis-5450/lib/python3.8/site-packages (from matplotlib!=3.6.1,>=3.4->seaborn) (0.12.1)\r\n",
      "Requirement already satisfied: fonttools>=4.22.0 in /Users/fant1c/miniconda3/envs/project-cis-5450/lib/python3.8/site-packages (from matplotlib!=3.6.1,>=3.4->seaborn) (4.54.1)\r\n",
      "Requirement already satisfied: kiwisolver>=1.0.1 in /Users/fant1c/miniconda3/envs/project-cis-5450/lib/python3.8/site-packages (from matplotlib!=3.6.1,>=3.4->seaborn) (1.4.7)\r\n",
      "Requirement already satisfied: packaging>=20.0 in /Users/fant1c/miniconda3/envs/project-cis-5450/lib/python3.8/site-packages (from matplotlib!=3.6.1,>=3.4->seaborn) (24.1)\r\n",
      "Requirement already satisfied: pillow>=6.2.0 in /Users/fant1c/miniconda3/envs/project-cis-5450/lib/python3.8/site-packages (from matplotlib!=3.6.1,>=3.4->seaborn) (10.4.0)\r\n",
      "Requirement already satisfied: pyparsing>=2.3.1 in /Users/fant1c/miniconda3/envs/project-cis-5450/lib/python3.8/site-packages (from matplotlib!=3.6.1,>=3.4->seaborn) (3.1.4)\r\n",
      "Requirement already satisfied: python-dateutil>=2.7 in /Users/fant1c/miniconda3/envs/project-cis-5450/lib/python3.8/site-packages (from matplotlib!=3.6.1,>=3.4->seaborn) (2.9.0.post0)\r\n",
      "Requirement already satisfied: importlib-resources>=3.2.0 in /Users/fant1c/miniconda3/envs/project-cis-5450/lib/python3.8/site-packages (from matplotlib!=3.6.1,>=3.4->seaborn) (6.4.0)\r\n",
      "Requirement already satisfied: pytz>=2020.1 in /Users/fant1c/miniconda3/envs/project-cis-5450/lib/python3.8/site-packages (from pandas>=1.2->seaborn) (2024.1)\r\n",
      "Requirement already satisfied: tzdata>=2022.1 in /Users/fant1c/miniconda3/envs/project-cis-5450/lib/python3.8/site-packages (from pandas>=1.2->seaborn) (2023.3)\r\n",
      "Requirement already satisfied: zipp>=3.1.0 in /Users/fant1c/miniconda3/envs/project-cis-5450/lib/python3.8/site-packages (from importlib-resources>=3.2.0->matplotlib!=3.6.1,>=3.4->seaborn) (3.20.2)\r\n",
      "Requirement already satisfied: six>=1.5 in /Users/fant1c/miniconda3/envs/project-cis-5450/lib/python3.8/site-packages (from python-dateutil>=2.7->matplotlib!=3.6.1,>=3.4->seaborn) (1.16.0)\r\n",
      "Requirement already satisfied: numpy in /Users/fant1c/miniconda3/envs/project-cis-5450/lib/python3.8/site-packages (1.24.3)\r\n",
      "Requirement already satisfied: pandas in /Users/fant1c/miniconda3/envs/project-cis-5450/lib/python3.8/site-packages (2.0.3)\r\n",
      "Requirement already satisfied: python-dateutil>=2.8.2 in /Users/fant1c/miniconda3/envs/project-cis-5450/lib/python3.8/site-packages (from pandas) (2.9.0.post0)\r\n",
      "Requirement already satisfied: pytz>=2020.1 in /Users/fant1c/miniconda3/envs/project-cis-5450/lib/python3.8/site-packages (from pandas) (2024.1)\r\n",
      "Requirement already satisfied: tzdata>=2022.1 in /Users/fant1c/miniconda3/envs/project-cis-5450/lib/python3.8/site-packages (from pandas) (2023.3)\r\n",
      "Requirement already satisfied: numpy>=1.20.3 in /Users/fant1c/miniconda3/envs/project-cis-5450/lib/python3.8/site-packages (from pandas) (1.24.3)\r\n",
      "Requirement already satisfied: six>=1.5 in /Users/fant1c/miniconda3/envs/project-cis-5450/lib/python3.8/site-packages (from python-dateutil>=2.8.2->pandas) (1.16.0)\r\n",
      "Requirement already satisfied: scikit-multilearn in /Users/fant1c/miniconda3/envs/project-cis-5450/lib/python3.8/site-packages (0.2.0)\r\n",
      "Requirement already satisfied: kagglehub in /Users/fant1c/miniconda3/envs/project-cis-5450/lib/python3.8/site-packages (0.2.9)\r\n",
      "Requirement already satisfied: packaging in /Users/fant1c/miniconda3/envs/project-cis-5450/lib/python3.8/site-packages (from kagglehub) (24.1)\r\n",
      "Requirement already satisfied: requests in /Users/fant1c/miniconda3/envs/project-cis-5450/lib/python3.8/site-packages (from kagglehub) (2.32.3)\r\n",
      "Requirement already satisfied: tqdm in /Users/fant1c/miniconda3/envs/project-cis-5450/lib/python3.8/site-packages (from kagglehub) (4.67.0)\r\n",
      "Requirement already satisfied: charset-normalizer<4,>=2 in /Users/fant1c/miniconda3/envs/project-cis-5450/lib/python3.8/site-packages (from requests->kagglehub) (3.3.2)\r\n",
      "Requirement already satisfied: idna<4,>=2.5 in /Users/fant1c/miniconda3/envs/project-cis-5450/lib/python3.8/site-packages (from requests->kagglehub) (3.7)\r\n",
      "Requirement already satisfied: urllib3<3,>=1.21.1 in /Users/fant1c/miniconda3/envs/project-cis-5450/lib/python3.8/site-packages (from requests->kagglehub) (2.2.3)\r\n",
      "Requirement already satisfied: certifi>=2017.4.17 in /Users/fant1c/miniconda3/envs/project-cis-5450/lib/python3.8/site-packages (from requests->kagglehub) (2024.8.30)\r\n",
      "Updated Git hooks.\r\n",
      "Git LFS initialized.\r\n",
      "Collecting plotly\r\n",
      "  Downloading plotly-5.24.1-py3-none-any.whl.metadata (7.3 kB)\r\n",
      "Collecting tenacity>=6.2.0 (from plotly)\r\n",
      "  Downloading tenacity-9.0.0-py3-none-any.whl.metadata (1.2 kB)\r\n",
      "Requirement already satisfied: packaging in /Users/fant1c/miniconda3/envs/project-cis-5450/lib/python3.8/site-packages (from plotly) (24.1)\r\n",
      "Downloading plotly-5.24.1-py3-none-any.whl (19.1 MB)\r\n",
      "\u001B[2K   \u001B[90m━━━━━━━━━━━━━━━━━━━━━━━━━━━━━━━━━━━━━━━━\u001B[0m \u001B[32m19.1/19.1 MB\u001B[0m \u001B[31m4.6 MB/s\u001B[0m eta \u001B[36m0:00:00\u001B[0m00:01\u001B[0m00:01\u001B[0m\r\n",
      "\u001B[?25hDownloading tenacity-9.0.0-py3-none-any.whl (28 kB)\r\n",
      "Installing collected packages: tenacity, plotly\r\n",
      "Successfully installed plotly-5.24.1 tenacity-9.0.0\r\n"
     ]
    }
   ],
   "source": [
    "# Donwload libraries\n",
    "!pip install scikit-learn\n",
    "!pip install seaborn\n",
    "!pip install numpy\n",
    "!pip install pandas\n",
    "!pip install scikit-multilearn\n",
    "!pip install kagglehub\n",
    "!git lfs install\n",
    "!git lfs pull\n",
    "!pip install plotly"
   ],
   "metadata": {
    "collapsed": false,
    "ExecuteTime": {
     "end_time": "2024-11-10T09:47:39.248313Z",
     "start_time": "2024-11-10T09:47:21.505403Z"
    }
   },
   "id": "6221e7fa33706511",
   "execution_count": 88
  },
  {
   "cell_type": "markdown",
   "source": [
    "# Importing libraries and packages"
   ],
   "metadata": {
    "collapsed": false
   },
   "id": "aecaaea1f4433499"
  },
  {
   "cell_type": "code",
   "outputs": [],
   "source": [
    "#  git lfs track \"*.csv\" to track all csv files\n",
    "\n",
    "import os\n",
    "import glob\n",
    "import kagglehub\n",
    "import sqlite3\n",
    "#Data Wrangling\n",
    "\n",
    "import numpy as np\n",
    "import pandas as pd\n",
    "\n",
    "#Trees\n",
    "from sklearn import tree\n",
    "from sklearn.ensemble import BaggingRegressor\n",
    "from sklearn.ensemble import RandomForestClassifier\n",
    "from sklearn.ensemble import RandomForestRegressor\n",
    "from sklearn.ensemble import GradientBoostingRegressor\n",
    "\n",
    "#Preprocessing Packages\n",
    "from sklearn.model_selection import train_test_split\n",
    "\n",
    "#Cross Validation\n",
    "from sklearn.model_selection import cross_val_score\n",
    "from sklearn.model_selection import KFold\n",
    "\n",
    "#Model tuning\n",
    "from sklearn.model_selection import GridSearchCV\n",
    "\n",
    "#Metrics\n",
    "from sklearn.metrics import mean_squared_error\n",
    "from sklearn.metrics import confusion_matrix\n",
    "\n",
    "#Plotting\n",
    "import seaborn as sns\n",
    "import matplotlib.pyplot as plt\n",
    "import plotly.express as px\n",
    "import plotly.graph_objects as go\n",
    "from plotly.subplots import make_subplots\n",
    "\n",
    "%matplotlib inline"
   ],
   "metadata": {
    "collapsed": true,
    "ExecuteTime": {
     "end_time": "2024-11-10T09:54:42.254778Z",
     "start_time": "2024-11-10T09:54:42.249220Z"
    }
   },
   "id": "initial_id",
   "execution_count": 99
  },
  {
   "cell_type": "markdown",
   "source": [
    "Loading Data Sets"
   ],
   "metadata": {
    "collapsed": false
   },
   "id": "16ca3c7fa95bd08f"
  },
  {
   "cell_type": "code",
   "outputs": [
    {
     "name": "stdout",
     "output_type": "stream",
     "text": [
      "/Users/fant1c/DataspellProjects/project-cis-5450\n",
      "/Users/fant1c/DataspellProjects/project-cis-5450/raw-data/\n"
     ]
    },
    {
     "data": {
      "text/plain": "   SEASON_1 SEASON_2     TEAM_ID              TEAM_NAME  PLAYER_ID  \\\n0      2009  2008-09  1610612744  Golden State Warriors     201627   \n1      2009  2008-09  1610612744  Golden State Warriors     101235   \n2      2009  2008-09  1610612756           Phoenix Suns        255   \n3      2009  2008-09  1610612739    Cleveland Cavaliers     200789   \n4      2009  2008-09  1610612756           Phoenix Suns        255   \n\n        PLAYER_NAME POSITION_GROUP POSITION   GAME_DATE   GAME_ID  ...  \\\n0    Anthony Morrow              G       SG  04-15-2009  20801229  ...   \n1  Kelenna Azubuike              F       SF  04-15-2009  20801229  ...   \n2        Grant Hill              F       SF  04-15-2009  20801229  ...   \n3     Daniel Gibson              G       PG  04-15-2009  20801219  ...   \n4        Grant Hill              F       SF  04-15-2009  20801229  ...   \n\n        BASIC_ZONE  ZONE_NAME ZONE_ABB       ZONE_RANGE LOC_X LOC_Y  \\\n0  Restricted Area     Center        C  Less Than 8 ft.  -0.0  5.25   \n1  Restricted Area     Center        C  Less Than 8 ft.  -0.0  5.25   \n2  Restricted Area     Center        C  Less Than 8 ft.  -0.0  5.25   \n3  Restricted Area     Center        C  Less Than 8 ft.  -0.2  5.25   \n4        Mid-Range  Left Side        L         8-16 ft.   8.7  7.55   \n\n  SHOT_DISTANCE QUARTER MINS_LEFT SECS_LEFT  \n0             0       4         0         1  \n1             0       4         0         9  \n2             0       4         0        25  \n3             0       5         0         4  \n4             8       4         1         3  \n\n[5 rows x 26 columns]",
      "text/html": "<div>\n<style scoped>\n    .dataframe tbody tr th:only-of-type {\n        vertical-align: middle;\n    }\n\n    .dataframe tbody tr th {\n        vertical-align: top;\n    }\n\n    .dataframe thead th {\n        text-align: right;\n    }\n</style>\n<table border=\"1\" class=\"dataframe\">\n  <thead>\n    <tr style=\"text-align: right;\">\n      <th></th>\n      <th>SEASON_1</th>\n      <th>SEASON_2</th>\n      <th>TEAM_ID</th>\n      <th>TEAM_NAME</th>\n      <th>PLAYER_ID</th>\n      <th>PLAYER_NAME</th>\n      <th>POSITION_GROUP</th>\n      <th>POSITION</th>\n      <th>GAME_DATE</th>\n      <th>GAME_ID</th>\n      <th>...</th>\n      <th>BASIC_ZONE</th>\n      <th>ZONE_NAME</th>\n      <th>ZONE_ABB</th>\n      <th>ZONE_RANGE</th>\n      <th>LOC_X</th>\n      <th>LOC_Y</th>\n      <th>SHOT_DISTANCE</th>\n      <th>QUARTER</th>\n      <th>MINS_LEFT</th>\n      <th>SECS_LEFT</th>\n    </tr>\n  </thead>\n  <tbody>\n    <tr>\n      <th>0</th>\n      <td>2009</td>\n      <td>2008-09</td>\n      <td>1610612744</td>\n      <td>Golden State Warriors</td>\n      <td>201627</td>\n      <td>Anthony Morrow</td>\n      <td>G</td>\n      <td>SG</td>\n      <td>04-15-2009</td>\n      <td>20801229</td>\n      <td>...</td>\n      <td>Restricted Area</td>\n      <td>Center</td>\n      <td>C</td>\n      <td>Less Than 8 ft.</td>\n      <td>-0.0</td>\n      <td>5.25</td>\n      <td>0</td>\n      <td>4</td>\n      <td>0</td>\n      <td>1</td>\n    </tr>\n    <tr>\n      <th>1</th>\n      <td>2009</td>\n      <td>2008-09</td>\n      <td>1610612744</td>\n      <td>Golden State Warriors</td>\n      <td>101235</td>\n      <td>Kelenna Azubuike</td>\n      <td>F</td>\n      <td>SF</td>\n      <td>04-15-2009</td>\n      <td>20801229</td>\n      <td>...</td>\n      <td>Restricted Area</td>\n      <td>Center</td>\n      <td>C</td>\n      <td>Less Than 8 ft.</td>\n      <td>-0.0</td>\n      <td>5.25</td>\n      <td>0</td>\n      <td>4</td>\n      <td>0</td>\n      <td>9</td>\n    </tr>\n    <tr>\n      <th>2</th>\n      <td>2009</td>\n      <td>2008-09</td>\n      <td>1610612756</td>\n      <td>Phoenix Suns</td>\n      <td>255</td>\n      <td>Grant Hill</td>\n      <td>F</td>\n      <td>SF</td>\n      <td>04-15-2009</td>\n      <td>20801229</td>\n      <td>...</td>\n      <td>Restricted Area</td>\n      <td>Center</td>\n      <td>C</td>\n      <td>Less Than 8 ft.</td>\n      <td>-0.0</td>\n      <td>5.25</td>\n      <td>0</td>\n      <td>4</td>\n      <td>0</td>\n      <td>25</td>\n    </tr>\n    <tr>\n      <th>3</th>\n      <td>2009</td>\n      <td>2008-09</td>\n      <td>1610612739</td>\n      <td>Cleveland Cavaliers</td>\n      <td>200789</td>\n      <td>Daniel Gibson</td>\n      <td>G</td>\n      <td>PG</td>\n      <td>04-15-2009</td>\n      <td>20801219</td>\n      <td>...</td>\n      <td>Restricted Area</td>\n      <td>Center</td>\n      <td>C</td>\n      <td>Less Than 8 ft.</td>\n      <td>-0.2</td>\n      <td>5.25</td>\n      <td>0</td>\n      <td>5</td>\n      <td>0</td>\n      <td>4</td>\n    </tr>\n    <tr>\n      <th>4</th>\n      <td>2009</td>\n      <td>2008-09</td>\n      <td>1610612756</td>\n      <td>Phoenix Suns</td>\n      <td>255</td>\n      <td>Grant Hill</td>\n      <td>F</td>\n      <td>SF</td>\n      <td>04-15-2009</td>\n      <td>20801229</td>\n      <td>...</td>\n      <td>Mid-Range</td>\n      <td>Left Side</td>\n      <td>L</td>\n      <td>8-16 ft.</td>\n      <td>8.7</td>\n      <td>7.55</td>\n      <td>8</td>\n      <td>4</td>\n      <td>1</td>\n      <td>3</td>\n    </tr>\n  </tbody>\n</table>\n<p>5 rows × 26 columns</p>\n</div>"
     },
     "execution_count": 90,
     "metadata": {},
     "output_type": "execute_result"
    }
   ],
   "source": [
    "# set up respective path to the data\n",
    "project_root = os.path.abspath(os.path.join(\"..\"))\n",
    "print(project_root)\n",
    "data_path = os.path.join(project_root, \"raw-data/\")\n",
    "print(data_path)\n",
    "\n",
    "# concatenate all seasons of data in a single df\n",
    "df = pd.DataFrame()\n",
    "files = glob.glob(os.path.join(data_path, '*_Shots.csv'))\n",
    "# for file in os.listdir(data_path):\n",
    "#     file_path=os.path.join(data_path,file)\n",
    "#     data=pd.read_csv(file_path)\n",
    "#     df=pd.concat([df,data],ignore_index=True)\n",
    "#     print(file)\n",
    "df = pd.concat((pd.read_csv(file) for file in files), ignore_index=True)\n",
    "df.head()"
   ],
   "metadata": {
    "collapsed": false,
    "ExecuteTime": {
     "end_time": "2024-11-10T09:47:46.123591Z",
     "start_time": "2024-11-10T09:47:39.301089Z"
    }
   },
   "id": "ace66250e977e0bd",
   "execution_count": 90
  },
  {
   "cell_type": "markdown",
   "source": [
    "# Data Dictionary\n",
    "\n",
    "**Self-Explanatory**: **TEAM_NAME**, **PLAYER_NAME**, **POSITION_GROUP**, **POSITION**, **HOME_TEAM**, **AWAY_TEAM**\n",
    "\n",
    "- **SEASON_1** & **SEASON_2**: Season indicator variables  \n",
    "- **TEAM_ID**: NBA's unique ID variable of that specific team in their API  \n",
    "- **PLAYER_ID**: NBA's unique ID variable of that specific player in their API  \n",
    "- **GAME_DATE**: Date of the game (M-D-Y // Month-Date-Year)  \n",
    "- **GAME_ID**: NBA's unique ID variable of that specific game in their API  \n",
    "- **EVENT_TYPE**: Character variable denoting a shot outcome (Made Shot // Missed Shot)  \n",
    "- **SHOT_MADE**: True/False variable denoting a shot outcome (True // False)  \n",
    "- **ACTION_TYPE**: Description of shot type (layup, dunk, jump shot, etc.)  \n",
    "- **SHOT_TYPE**: Type of shot (2PT or 3PT)  \n",
    "- **BASIC_ZONE**: Name of the court zone the shot took place in  \n",
    "  - Restricted Area, In the Paint (non-RA), Midrange, Left Corner 3, Right Corner 3, Above the Break, Backcourt  \n",
    "- **ZONE_NAME**: Name of the side of court the shot took place in  \n",
    "  - left, left side center, center, right side center, right  \n",
    "- **ZONE_ABB**: Abbreviation of the side of court  \n",
    "  - (L), (LC), (C), (RC), (R)  \n",
    "- **ZONE_RANGE**: Distance range of shot by zones  \n",
    "  - Less than 8 ft., 8-16 ft. 16-24 ft. 24+ ft.  \n",
    "- **LOC_X**: X coordinate of the shot in the x, y plane of the court (0, 50)  \n",
    "- **LOC_Y**: Y coordinate of the shot in the x, y plane of the court (0, 50)  \n",
    "- **SHOT_DISTANCE**: Distance of the shot with respect to the center of the hoop, in feet  \n",
    "- **QUARTER**: Quarter of the game  \n",
    "- **MINS_LEFT**: Minutes remaining in the quarter  \n",
    "- **SECS_LEFT**: Seconds remaining in minute of the quarter  \n"
   ],
   "metadata": {
    "collapsed": false
   },
   "id": "17c9486cf2fa27ef"
  },
  {
   "cell_type": "code",
   "outputs": [
    {
     "name": "stdout",
     "output_type": "stream",
     "text": [
      "Number of duplicate rows: 192\n",
      "dtypes:\n",
      "SEASON_1            int64\n",
      "SEASON_2           object\n",
      "TEAM_ID             int64\n",
      "TEAM_NAME          object\n",
      "PLAYER_ID           int64\n",
      "PLAYER_NAME        object\n",
      "POSITION_GROUP     object\n",
      "POSITION           object\n",
      "GAME_DATE          object\n",
      "GAME_ID             int64\n",
      "HOME_TEAM          object\n",
      "AWAY_TEAM          object\n",
      "EVENT_TYPE         object\n",
      "SHOT_MADE            bool\n",
      "ACTION_TYPE        object\n",
      "SHOT_TYPE          object\n",
      "BASIC_ZONE         object\n",
      "ZONE_NAME          object\n",
      "ZONE_ABB           object\n",
      "ZONE_RANGE         object\n",
      "LOC_X             float64\n",
      "LOC_Y             float64\n",
      "SHOT_DISTANCE       int64\n",
      "QUARTER             int64\n",
      "MINS_LEFT           int64\n",
      "SECS_LEFT           int64\n",
      "dtype: object\n",
      "----------------------------\n",
      "Leagues DF describe:\n",
      "           SEASON_1       TEAM_ID     PLAYER_ID       GAME_ID         LOC_X  \\\n",
      "count  4.231262e+06  4.231262e+06  4.231262e+06  4.231262e+06  4.231262e+06   \n",
      "mean   2.014191e+03  1.610613e+09  4.136611e+05  2.131969e+07  9.484016e-02   \n",
      "std    6.075766e+00  8.637604e+00  6.151205e+05  6.075733e+05  1.026536e+01   \n",
      "min    2.004000e+03  1.610613e+09  1.500000e+01  2.030000e+07 -2.500000e+01   \n",
      "25%    2.009000e+03  1.610613e+09  2.544000e+03  2.080049e+07 -2.900000e+00   \n",
      "50%    2.014000e+03  1.610613e+09  2.015710e+05  2.130105e+07 -0.000000e+00   \n",
      "75%    2.019000e+03  1.610613e+09  2.035150e+05  2.180109e+07  2.900000e+00   \n",
      "max    2.024000e+03  1.610613e+09  1.642013e+06  2.230123e+07  2.500000e+01   \n",
      "\n",
      "              LOC_Y  SHOT_DISTANCE       QUARTER     MINS_LEFT     SECS_LEFT  \n",
      "count  4.231262e+06   4.231262e+06  4.231262e+06  4.231262e+06  4.231262e+06  \n",
      "mean   1.239007e+01   1.256117e+01  2.480653e+00  5.339453e+00  2.877145e+01  \n",
      "std    8.554501e+00   1.012375e+01  1.137499e+00  3.463006e+00  1.744952e+01  \n",
      "min    5.000000e-02   0.000000e+00  1.000000e+00  0.000000e+00  0.000000e+00  \n",
      "25%    5.875000e+00   2.000000e+00  1.000000e+00  2.000000e+00  1.400000e+01  \n",
      "50%    8.050000e+00   1.300000e+01  2.000000e+00  5.000000e+00  2.900000e+01  \n",
      "75%    1.875000e+01   2.300000e+01  3.000000e+00  8.000000e+00  4.400000e+01  \n",
      "max    9.365000e+01   8.900000e+01  8.000000e+00  1.200000e+01  5.900000e+01  \n",
      "----------------------------\n",
      "Check for Null values:\n",
      "SEASON_1             0\n",
      "SEASON_2             0\n",
      "TEAM_ID              0\n",
      "TEAM_NAME            0\n",
      "PLAYER_ID            0\n",
      "PLAYER_NAME          0\n",
      "POSITION_GROUP    7930\n",
      "POSITION          7930\n",
      "GAME_DATE            0\n",
      "GAME_ID              0\n",
      "HOME_TEAM            0\n",
      "AWAY_TEAM            0\n",
      "EVENT_TYPE           0\n",
      "SHOT_MADE            0\n",
      "ACTION_TYPE          0\n",
      "SHOT_TYPE            0\n",
      "BASIC_ZONE           0\n",
      "ZONE_NAME            0\n",
      "ZONE_ABB             0\n",
      "ZONE_RANGE           0\n",
      "LOC_X                0\n",
      "LOC_Y                0\n",
      "SHOT_DISTANCE        0\n",
      "QUARTER              0\n",
      "MINS_LEFT            0\n",
      "SECS_LEFT            0\n",
      "dtype: int64\n",
      "----------------------------\n",
      "First 5 row of the dataset\n"
     ]
    },
    {
     "data": {
      "text/plain": "   SEASON_1 SEASON_2     TEAM_ID              TEAM_NAME  PLAYER_ID  \\\n0      2009  2008-09  1610612744  Golden State Warriors     201627   \n1      2009  2008-09  1610612744  Golden State Warriors     101235   \n2      2009  2008-09  1610612756           Phoenix Suns        255   \n3      2009  2008-09  1610612739    Cleveland Cavaliers     200789   \n4      2009  2008-09  1610612756           Phoenix Suns        255   \n\n        PLAYER_NAME POSITION_GROUP POSITION   GAME_DATE   GAME_ID  ...  \\\n0    Anthony Morrow              G       SG  04-15-2009  20801229  ...   \n1  Kelenna Azubuike              F       SF  04-15-2009  20801229  ...   \n2        Grant Hill              F       SF  04-15-2009  20801229  ...   \n3     Daniel Gibson              G       PG  04-15-2009  20801219  ...   \n4        Grant Hill              F       SF  04-15-2009  20801229  ...   \n\n        BASIC_ZONE  ZONE_NAME ZONE_ABB       ZONE_RANGE LOC_X LOC_Y  \\\n0  Restricted Area     Center        C  Less Than 8 ft.  -0.0  5.25   \n1  Restricted Area     Center        C  Less Than 8 ft.  -0.0  5.25   \n2  Restricted Area     Center        C  Less Than 8 ft.  -0.0  5.25   \n3  Restricted Area     Center        C  Less Than 8 ft.  -0.2  5.25   \n4        Mid-Range  Left Side        L         8-16 ft.   8.7  7.55   \n\n  SHOT_DISTANCE QUARTER MINS_LEFT SECS_LEFT  \n0             0       4         0         1  \n1             0       4         0         9  \n2             0       4         0        25  \n3             0       5         0         4  \n4             8       4         1         3  \n\n[5 rows x 26 columns]",
      "text/html": "<div>\n<style scoped>\n    .dataframe tbody tr th:only-of-type {\n        vertical-align: middle;\n    }\n\n    .dataframe tbody tr th {\n        vertical-align: top;\n    }\n\n    .dataframe thead th {\n        text-align: right;\n    }\n</style>\n<table border=\"1\" class=\"dataframe\">\n  <thead>\n    <tr style=\"text-align: right;\">\n      <th></th>\n      <th>SEASON_1</th>\n      <th>SEASON_2</th>\n      <th>TEAM_ID</th>\n      <th>TEAM_NAME</th>\n      <th>PLAYER_ID</th>\n      <th>PLAYER_NAME</th>\n      <th>POSITION_GROUP</th>\n      <th>POSITION</th>\n      <th>GAME_DATE</th>\n      <th>GAME_ID</th>\n      <th>...</th>\n      <th>BASIC_ZONE</th>\n      <th>ZONE_NAME</th>\n      <th>ZONE_ABB</th>\n      <th>ZONE_RANGE</th>\n      <th>LOC_X</th>\n      <th>LOC_Y</th>\n      <th>SHOT_DISTANCE</th>\n      <th>QUARTER</th>\n      <th>MINS_LEFT</th>\n      <th>SECS_LEFT</th>\n    </tr>\n  </thead>\n  <tbody>\n    <tr>\n      <th>0</th>\n      <td>2009</td>\n      <td>2008-09</td>\n      <td>1610612744</td>\n      <td>Golden State Warriors</td>\n      <td>201627</td>\n      <td>Anthony Morrow</td>\n      <td>G</td>\n      <td>SG</td>\n      <td>04-15-2009</td>\n      <td>20801229</td>\n      <td>...</td>\n      <td>Restricted Area</td>\n      <td>Center</td>\n      <td>C</td>\n      <td>Less Than 8 ft.</td>\n      <td>-0.0</td>\n      <td>5.25</td>\n      <td>0</td>\n      <td>4</td>\n      <td>0</td>\n      <td>1</td>\n    </tr>\n    <tr>\n      <th>1</th>\n      <td>2009</td>\n      <td>2008-09</td>\n      <td>1610612744</td>\n      <td>Golden State Warriors</td>\n      <td>101235</td>\n      <td>Kelenna Azubuike</td>\n      <td>F</td>\n      <td>SF</td>\n      <td>04-15-2009</td>\n      <td>20801229</td>\n      <td>...</td>\n      <td>Restricted Area</td>\n      <td>Center</td>\n      <td>C</td>\n      <td>Less Than 8 ft.</td>\n      <td>-0.0</td>\n      <td>5.25</td>\n      <td>0</td>\n      <td>4</td>\n      <td>0</td>\n      <td>9</td>\n    </tr>\n    <tr>\n      <th>2</th>\n      <td>2009</td>\n      <td>2008-09</td>\n      <td>1610612756</td>\n      <td>Phoenix Suns</td>\n      <td>255</td>\n      <td>Grant Hill</td>\n      <td>F</td>\n      <td>SF</td>\n      <td>04-15-2009</td>\n      <td>20801229</td>\n      <td>...</td>\n      <td>Restricted Area</td>\n      <td>Center</td>\n      <td>C</td>\n      <td>Less Than 8 ft.</td>\n      <td>-0.0</td>\n      <td>5.25</td>\n      <td>0</td>\n      <td>4</td>\n      <td>0</td>\n      <td>25</td>\n    </tr>\n    <tr>\n      <th>3</th>\n      <td>2009</td>\n      <td>2008-09</td>\n      <td>1610612739</td>\n      <td>Cleveland Cavaliers</td>\n      <td>200789</td>\n      <td>Daniel Gibson</td>\n      <td>G</td>\n      <td>PG</td>\n      <td>04-15-2009</td>\n      <td>20801219</td>\n      <td>...</td>\n      <td>Restricted Area</td>\n      <td>Center</td>\n      <td>C</td>\n      <td>Less Than 8 ft.</td>\n      <td>-0.2</td>\n      <td>5.25</td>\n      <td>0</td>\n      <td>5</td>\n      <td>0</td>\n      <td>4</td>\n    </tr>\n    <tr>\n      <th>4</th>\n      <td>2009</td>\n      <td>2008-09</td>\n      <td>1610612756</td>\n      <td>Phoenix Suns</td>\n      <td>255</td>\n      <td>Grant Hill</td>\n      <td>F</td>\n      <td>SF</td>\n      <td>04-15-2009</td>\n      <td>20801229</td>\n      <td>...</td>\n      <td>Mid-Range</td>\n      <td>Left Side</td>\n      <td>L</td>\n      <td>8-16 ft.</td>\n      <td>8.7</td>\n      <td>7.55</td>\n      <td>8</td>\n      <td>4</td>\n      <td>1</td>\n      <td>3</td>\n    </tr>\n  </tbody>\n</table>\n<p>5 rows × 26 columns</p>\n</div>"
     },
     "execution_count": 91,
     "metadata": {},
     "output_type": "execute_result"
    }
   ],
   "source": [
    "# inspect the Leagues data set\n",
    "print(\"Number of duplicate rows: \" + str(df.duplicated().sum()))\n",
    "print(\"dtypes:\")\n",
    "print(df.dtypes)\n",
    "print(\"----------------------------\\nLeagues DF describe:\")\n",
    "print(df.describe())\n",
    "print(\"----------------------------\\nCheck for Null values:\")\n",
    "print(df.isna().sum())\n",
    "print(\"----------------------------\\nFirst 5 row of the dataset\")\n",
    "df.head()"
   ],
   "metadata": {
    "collapsed": false,
    "ExecuteTime": {
     "end_time": "2024-11-10T09:47:50.957037Z",
     "start_time": "2024-11-10T09:47:46.125Z"
    }
   },
   "id": "4d15daaa5c28ebf8",
   "execution_count": 91
  },
  {
   "cell_type": "code",
   "outputs": [
    {
     "data": {
      "text/plain": "   SEASON_1 SEASON_2     TEAM_ID              TEAM_NAME  PLAYER_ID  \\\n0      2009  2008-09  1610612744  Golden State Warriors     201627   \n1      2009  2008-09  1610612744  Golden State Warriors     101235   \n2      2009  2008-09  1610612756           Phoenix Suns        255   \n3      2009  2008-09  1610612739    Cleveland Cavaliers     200789   \n4      2009  2008-09  1610612756           Phoenix Suns        255   \n\n        PLAYER_NAME POSITION_GROUP POSITION   GAME_DATE   GAME_ID  ...  \\\n0    Anthony Morrow              G       SG  04-15-2009  20801229  ...   \n1  Kelenna Azubuike              F       SF  04-15-2009  20801229  ...   \n2        Grant Hill              F       SF  04-15-2009  20801229  ...   \n3     Daniel Gibson              G       PG  04-15-2009  20801219  ...   \n4        Grant Hill              F       SF  04-15-2009  20801229  ...   \n\n        BASIC_ZONE  ZONE_NAME ZONE_ABB       ZONE_RANGE LOC_X LOC_Y  \\\n0  Restricted Area     Center        C  Less Than 8 ft.  -0.0  5.25   \n1  Restricted Area     Center        C  Less Than 8 ft.  -0.0  5.25   \n2  Restricted Area     Center        C  Less Than 8 ft.  -0.0  5.25   \n3  Restricted Area     Center        C  Less Than 8 ft.  -0.2  5.25   \n4        Mid-Range  Left Side        L         8-16 ft.   8.7  7.55   \n\n  SHOT_DISTANCE QUARTER MINS_LEFT SECS_LEFT  \n0             0       4         0         1  \n1             0       4         0         9  \n2             0       4         0        25  \n3             0       5         0         4  \n4             8       4         1         3  \n\n[5 rows x 26 columns]",
      "text/html": "<div>\n<style scoped>\n    .dataframe tbody tr th:only-of-type {\n        vertical-align: middle;\n    }\n\n    .dataframe tbody tr th {\n        vertical-align: top;\n    }\n\n    .dataframe thead th {\n        text-align: right;\n    }\n</style>\n<table border=\"1\" class=\"dataframe\">\n  <thead>\n    <tr style=\"text-align: right;\">\n      <th></th>\n      <th>SEASON_1</th>\n      <th>SEASON_2</th>\n      <th>TEAM_ID</th>\n      <th>TEAM_NAME</th>\n      <th>PLAYER_ID</th>\n      <th>PLAYER_NAME</th>\n      <th>POSITION_GROUP</th>\n      <th>POSITION</th>\n      <th>GAME_DATE</th>\n      <th>GAME_ID</th>\n      <th>...</th>\n      <th>BASIC_ZONE</th>\n      <th>ZONE_NAME</th>\n      <th>ZONE_ABB</th>\n      <th>ZONE_RANGE</th>\n      <th>LOC_X</th>\n      <th>LOC_Y</th>\n      <th>SHOT_DISTANCE</th>\n      <th>QUARTER</th>\n      <th>MINS_LEFT</th>\n      <th>SECS_LEFT</th>\n    </tr>\n  </thead>\n  <tbody>\n    <tr>\n      <th>0</th>\n      <td>2009</td>\n      <td>2008-09</td>\n      <td>1610612744</td>\n      <td>Golden State Warriors</td>\n      <td>201627</td>\n      <td>Anthony Morrow</td>\n      <td>G</td>\n      <td>SG</td>\n      <td>04-15-2009</td>\n      <td>20801229</td>\n      <td>...</td>\n      <td>Restricted Area</td>\n      <td>Center</td>\n      <td>C</td>\n      <td>Less Than 8 ft.</td>\n      <td>-0.0</td>\n      <td>5.25</td>\n      <td>0</td>\n      <td>4</td>\n      <td>0</td>\n      <td>1</td>\n    </tr>\n    <tr>\n      <th>1</th>\n      <td>2009</td>\n      <td>2008-09</td>\n      <td>1610612744</td>\n      <td>Golden State Warriors</td>\n      <td>101235</td>\n      <td>Kelenna Azubuike</td>\n      <td>F</td>\n      <td>SF</td>\n      <td>04-15-2009</td>\n      <td>20801229</td>\n      <td>...</td>\n      <td>Restricted Area</td>\n      <td>Center</td>\n      <td>C</td>\n      <td>Less Than 8 ft.</td>\n      <td>-0.0</td>\n      <td>5.25</td>\n      <td>0</td>\n      <td>4</td>\n      <td>0</td>\n      <td>9</td>\n    </tr>\n    <tr>\n      <th>2</th>\n      <td>2009</td>\n      <td>2008-09</td>\n      <td>1610612756</td>\n      <td>Phoenix Suns</td>\n      <td>255</td>\n      <td>Grant Hill</td>\n      <td>F</td>\n      <td>SF</td>\n      <td>04-15-2009</td>\n      <td>20801229</td>\n      <td>...</td>\n      <td>Restricted Area</td>\n      <td>Center</td>\n      <td>C</td>\n      <td>Less Than 8 ft.</td>\n      <td>-0.0</td>\n      <td>5.25</td>\n      <td>0</td>\n      <td>4</td>\n      <td>0</td>\n      <td>25</td>\n    </tr>\n    <tr>\n      <th>3</th>\n      <td>2009</td>\n      <td>2008-09</td>\n      <td>1610612739</td>\n      <td>Cleveland Cavaliers</td>\n      <td>200789</td>\n      <td>Daniel Gibson</td>\n      <td>G</td>\n      <td>PG</td>\n      <td>04-15-2009</td>\n      <td>20801219</td>\n      <td>...</td>\n      <td>Restricted Area</td>\n      <td>Center</td>\n      <td>C</td>\n      <td>Less Than 8 ft.</td>\n      <td>-0.2</td>\n      <td>5.25</td>\n      <td>0</td>\n      <td>5</td>\n      <td>0</td>\n      <td>4</td>\n    </tr>\n    <tr>\n      <th>4</th>\n      <td>2009</td>\n      <td>2008-09</td>\n      <td>1610612756</td>\n      <td>Phoenix Suns</td>\n      <td>255</td>\n      <td>Grant Hill</td>\n      <td>F</td>\n      <td>SF</td>\n      <td>04-15-2009</td>\n      <td>20801229</td>\n      <td>...</td>\n      <td>Mid-Range</td>\n      <td>Left Side</td>\n      <td>L</td>\n      <td>8-16 ft.</td>\n      <td>8.7</td>\n      <td>7.55</td>\n      <td>8</td>\n      <td>4</td>\n      <td>1</td>\n      <td>3</td>\n    </tr>\n  </tbody>\n</table>\n<p>5 rows × 26 columns</p>\n</div>"
     },
     "execution_count": 92,
     "metadata": {},
     "output_type": "execute_result"
    }
   ],
   "source": [
    "df_clean = df.drop_duplicates()\n",
    "df_clean.head()"
   ],
   "metadata": {
    "collapsed": false,
    "ExecuteTime": {
     "end_time": "2024-11-10T09:47:54.014061Z",
     "start_time": "2024-11-10T09:47:50.957765Z"
    }
   },
   "id": "248e1d9cef4e6279",
   "execution_count": 92
  },
  {
   "cell_type": "code",
   "outputs": [
    {
     "name": "stdout",
     "output_type": "stream",
     "text": [
      "Number of rows containing NA values:\n",
      "POSITION_GROUP    7930\n",
      "POSITION          7930\n",
      "dtype: int64\n"
     ]
    },
    {
     "data": {
      "text/plain": "         SEASON_1 SEASON_2     TEAM_ID          TEAM_NAME  PLAYER_ID  \\\n812184       2023  2022-23  1610612761    Toronto Raptors    1628384   \n812187       2023  2022-23  1610612761    Toronto Raptors    1628384   \n812199       2023  2022-23  1610612761    Toronto Raptors    1628384   \n812207       2023  2022-23  1610612761    Toronto Raptors    1628384   \n812222       2023  2022-23  1610612761    Toronto Raptors    1628384   \n...           ...      ...         ...                ...        ...   \n4157912      2015  2014-15  1610612766  Charlotte Hornets     203106   \n4157940      2015  2014-15  1610612766  Charlotte Hornets     203106   \n4158003      2015  2014-15  1610612766  Charlotte Hornets     203106   \n4162561      2015  2014-15  1610612766  Charlotte Hornets     203106   \n4162592      2015  2014-15  1610612766  Charlotte Hornets     203106   \n\n            PLAYER_NAME POSITION_GROUP POSITION   GAME_DATE   GAME_ID  ...  \\\n812184     O.G. Anunoby            NaN      NaN  10-19-2022  22200008  ...   \n812187     O.G. Anunoby            NaN      NaN  10-19-2022  22200008  ...   \n812199     O.G. Anunoby            NaN      NaN  10-19-2022  22200008  ...   \n812207     O.G. Anunoby            NaN      NaN  10-19-2022  22200008  ...   \n812222     O.G. Anunoby            NaN      NaN  10-19-2022  22200008  ...   \n...                 ...            ...      ...         ...       ...  ...   \n4157912  Jeffery Taylor            NaN      NaN  12-26-2014  21400438  ...   \n4157940  Jeffery Taylor            NaN      NaN  12-26-2014  21400438  ...   \n4158003  Jeffery Taylor            NaN      NaN  12-26-2014  21400438  ...   \n4162561  Jeffery Taylor            NaN      NaN  12-22-2014  21400409  ...   \n4162592  Jeffery Taylor            NaN      NaN  12-22-2014  21400409  ...   \n\n                    BASIC_ZONE          ZONE_NAME ZONE_ABB       ZONE_RANGE  \\\n812184       Above the Break 3   Left Side Center       LC          24+ ft.   \n812187   In The Paint (Non-RA)          Left Side        L         8-16 ft.   \n812199       Above the Break 3  Right Side Center       RC          24+ ft.   \n812207   In The Paint (Non-RA)             Center        C  Less Than 8 ft.   \n812222         Restricted Area             Center        C  Less Than 8 ft.   \n...                        ...                ...      ...              ...   \n4157912        Restricted Area             Center        C  Less Than 8 ft.   \n4157940              Mid-Range         Right Side        R         8-16 ft.   \n4158003        Restricted Area             Center        C  Less Than 8 ft.   \n4162561         Right Corner 3         Right Side        R          24+ ft.   \n4162592        Restricted Area             Center        C  Less Than 8 ft.   \n\n        LOC_X  LOC_Y SHOT_DISTANCE QUARTER MINS_LEFT SECS_LEFT  \n812184   15.0  26.95            26       1        11        23  \n812187    5.6  14.45            10       1         9        42  \n812199   -8.9  29.35            25       1         1        15  \n812207    2.1  10.05             5       2         9        24  \n812222   -0.1   4.65             0       2         1        54  \n...       ...    ...           ...     ...       ...       ...  \n4157912  -0.1   7.45             2       4         2        49  \n4157940 -11.9   5.05            11       4         4         5  \n4158003  -1.5   5.05             1       4         6        59  \n4162561 -23.6   6.35            23       4         2        14  \n4162592  -2.1   5.25             2       4         3        41  \n\n[7930 rows x 26 columns]",
      "text/html": "<div>\n<style scoped>\n    .dataframe tbody tr th:only-of-type {\n        vertical-align: middle;\n    }\n\n    .dataframe tbody tr th {\n        vertical-align: top;\n    }\n\n    .dataframe thead th {\n        text-align: right;\n    }\n</style>\n<table border=\"1\" class=\"dataframe\">\n  <thead>\n    <tr style=\"text-align: right;\">\n      <th></th>\n      <th>SEASON_1</th>\n      <th>SEASON_2</th>\n      <th>TEAM_ID</th>\n      <th>TEAM_NAME</th>\n      <th>PLAYER_ID</th>\n      <th>PLAYER_NAME</th>\n      <th>POSITION_GROUP</th>\n      <th>POSITION</th>\n      <th>GAME_DATE</th>\n      <th>GAME_ID</th>\n      <th>...</th>\n      <th>BASIC_ZONE</th>\n      <th>ZONE_NAME</th>\n      <th>ZONE_ABB</th>\n      <th>ZONE_RANGE</th>\n      <th>LOC_X</th>\n      <th>LOC_Y</th>\n      <th>SHOT_DISTANCE</th>\n      <th>QUARTER</th>\n      <th>MINS_LEFT</th>\n      <th>SECS_LEFT</th>\n    </tr>\n  </thead>\n  <tbody>\n    <tr>\n      <th>812184</th>\n      <td>2023</td>\n      <td>2022-23</td>\n      <td>1610612761</td>\n      <td>Toronto Raptors</td>\n      <td>1628384</td>\n      <td>O.G. Anunoby</td>\n      <td>NaN</td>\n      <td>NaN</td>\n      <td>10-19-2022</td>\n      <td>22200008</td>\n      <td>...</td>\n      <td>Above the Break 3</td>\n      <td>Left Side Center</td>\n      <td>LC</td>\n      <td>24+ ft.</td>\n      <td>15.0</td>\n      <td>26.95</td>\n      <td>26</td>\n      <td>1</td>\n      <td>11</td>\n      <td>23</td>\n    </tr>\n    <tr>\n      <th>812187</th>\n      <td>2023</td>\n      <td>2022-23</td>\n      <td>1610612761</td>\n      <td>Toronto Raptors</td>\n      <td>1628384</td>\n      <td>O.G. Anunoby</td>\n      <td>NaN</td>\n      <td>NaN</td>\n      <td>10-19-2022</td>\n      <td>22200008</td>\n      <td>...</td>\n      <td>In The Paint (Non-RA)</td>\n      <td>Left Side</td>\n      <td>L</td>\n      <td>8-16 ft.</td>\n      <td>5.6</td>\n      <td>14.45</td>\n      <td>10</td>\n      <td>1</td>\n      <td>9</td>\n      <td>42</td>\n    </tr>\n    <tr>\n      <th>812199</th>\n      <td>2023</td>\n      <td>2022-23</td>\n      <td>1610612761</td>\n      <td>Toronto Raptors</td>\n      <td>1628384</td>\n      <td>O.G. Anunoby</td>\n      <td>NaN</td>\n      <td>NaN</td>\n      <td>10-19-2022</td>\n      <td>22200008</td>\n      <td>...</td>\n      <td>Above the Break 3</td>\n      <td>Right Side Center</td>\n      <td>RC</td>\n      <td>24+ ft.</td>\n      <td>-8.9</td>\n      <td>29.35</td>\n      <td>25</td>\n      <td>1</td>\n      <td>1</td>\n      <td>15</td>\n    </tr>\n    <tr>\n      <th>812207</th>\n      <td>2023</td>\n      <td>2022-23</td>\n      <td>1610612761</td>\n      <td>Toronto Raptors</td>\n      <td>1628384</td>\n      <td>O.G. Anunoby</td>\n      <td>NaN</td>\n      <td>NaN</td>\n      <td>10-19-2022</td>\n      <td>22200008</td>\n      <td>...</td>\n      <td>In The Paint (Non-RA)</td>\n      <td>Center</td>\n      <td>C</td>\n      <td>Less Than 8 ft.</td>\n      <td>2.1</td>\n      <td>10.05</td>\n      <td>5</td>\n      <td>2</td>\n      <td>9</td>\n      <td>24</td>\n    </tr>\n    <tr>\n      <th>812222</th>\n      <td>2023</td>\n      <td>2022-23</td>\n      <td>1610612761</td>\n      <td>Toronto Raptors</td>\n      <td>1628384</td>\n      <td>O.G. Anunoby</td>\n      <td>NaN</td>\n      <td>NaN</td>\n      <td>10-19-2022</td>\n      <td>22200008</td>\n      <td>...</td>\n      <td>Restricted Area</td>\n      <td>Center</td>\n      <td>C</td>\n      <td>Less Than 8 ft.</td>\n      <td>-0.1</td>\n      <td>4.65</td>\n      <td>0</td>\n      <td>2</td>\n      <td>1</td>\n      <td>54</td>\n    </tr>\n    <tr>\n      <th>...</th>\n      <td>...</td>\n      <td>...</td>\n      <td>...</td>\n      <td>...</td>\n      <td>...</td>\n      <td>...</td>\n      <td>...</td>\n      <td>...</td>\n      <td>...</td>\n      <td>...</td>\n      <td>...</td>\n      <td>...</td>\n      <td>...</td>\n      <td>...</td>\n      <td>...</td>\n      <td>...</td>\n      <td>...</td>\n      <td>...</td>\n      <td>...</td>\n      <td>...</td>\n      <td>...</td>\n    </tr>\n    <tr>\n      <th>4157912</th>\n      <td>2015</td>\n      <td>2014-15</td>\n      <td>1610612766</td>\n      <td>Charlotte Hornets</td>\n      <td>203106</td>\n      <td>Jeffery Taylor</td>\n      <td>NaN</td>\n      <td>NaN</td>\n      <td>12-26-2014</td>\n      <td>21400438</td>\n      <td>...</td>\n      <td>Restricted Area</td>\n      <td>Center</td>\n      <td>C</td>\n      <td>Less Than 8 ft.</td>\n      <td>-0.1</td>\n      <td>7.45</td>\n      <td>2</td>\n      <td>4</td>\n      <td>2</td>\n      <td>49</td>\n    </tr>\n    <tr>\n      <th>4157940</th>\n      <td>2015</td>\n      <td>2014-15</td>\n      <td>1610612766</td>\n      <td>Charlotte Hornets</td>\n      <td>203106</td>\n      <td>Jeffery Taylor</td>\n      <td>NaN</td>\n      <td>NaN</td>\n      <td>12-26-2014</td>\n      <td>21400438</td>\n      <td>...</td>\n      <td>Mid-Range</td>\n      <td>Right Side</td>\n      <td>R</td>\n      <td>8-16 ft.</td>\n      <td>-11.9</td>\n      <td>5.05</td>\n      <td>11</td>\n      <td>4</td>\n      <td>4</td>\n      <td>5</td>\n    </tr>\n    <tr>\n      <th>4158003</th>\n      <td>2015</td>\n      <td>2014-15</td>\n      <td>1610612766</td>\n      <td>Charlotte Hornets</td>\n      <td>203106</td>\n      <td>Jeffery Taylor</td>\n      <td>NaN</td>\n      <td>NaN</td>\n      <td>12-26-2014</td>\n      <td>21400438</td>\n      <td>...</td>\n      <td>Restricted Area</td>\n      <td>Center</td>\n      <td>C</td>\n      <td>Less Than 8 ft.</td>\n      <td>-1.5</td>\n      <td>5.05</td>\n      <td>1</td>\n      <td>4</td>\n      <td>6</td>\n      <td>59</td>\n    </tr>\n    <tr>\n      <th>4162561</th>\n      <td>2015</td>\n      <td>2014-15</td>\n      <td>1610612766</td>\n      <td>Charlotte Hornets</td>\n      <td>203106</td>\n      <td>Jeffery Taylor</td>\n      <td>NaN</td>\n      <td>NaN</td>\n      <td>12-22-2014</td>\n      <td>21400409</td>\n      <td>...</td>\n      <td>Right Corner 3</td>\n      <td>Right Side</td>\n      <td>R</td>\n      <td>24+ ft.</td>\n      <td>-23.6</td>\n      <td>6.35</td>\n      <td>23</td>\n      <td>4</td>\n      <td>2</td>\n      <td>14</td>\n    </tr>\n    <tr>\n      <th>4162592</th>\n      <td>2015</td>\n      <td>2014-15</td>\n      <td>1610612766</td>\n      <td>Charlotte Hornets</td>\n      <td>203106</td>\n      <td>Jeffery Taylor</td>\n      <td>NaN</td>\n      <td>NaN</td>\n      <td>12-22-2014</td>\n      <td>21400409</td>\n      <td>...</td>\n      <td>Restricted Area</td>\n      <td>Center</td>\n      <td>C</td>\n      <td>Less Than 8 ft.</td>\n      <td>-2.1</td>\n      <td>5.25</td>\n      <td>2</td>\n      <td>4</td>\n      <td>3</td>\n      <td>41</td>\n    </tr>\n  </tbody>\n</table>\n<p>7930 rows × 26 columns</p>\n</div>"
     },
     "execution_count": 93,
     "metadata": {},
     "output_type": "execute_result"
    }
   ],
   "source": [
    "#TODO:\n",
    "print(\"Number of rows containing NA values:\\n\" + str(df_clean.isna().sum()[df_clean.isna().sum() > 0]))\n",
    "df_clean[df_clean[\"POSITION_GROUP\"].isna() | df_clean[\"POSITION\"].isna()]"
   ],
   "metadata": {
    "collapsed": false,
    "ExecuteTime": {
     "end_time": "2024-11-10T09:47:56.211063Z",
     "start_time": "2024-11-10T09:47:54.014718Z"
    }
   },
   "id": "5902d9b36e45b873",
   "execution_count": 93
  },
  {
   "cell_type": "code",
   "outputs": [],
   "source": [],
   "metadata": {
    "collapsed": false,
    "ExecuteTime": {
     "end_time": "2024-11-10T09:47:56.213176Z",
     "start_time": "2024-11-10T09:47:56.211849Z"
    }
   },
   "id": "f259035fb59355bf",
   "execution_count": 93
  },
  {
   "cell_type": "code",
   "outputs": [
    {
     "data": {
      "text/plain": "4231070"
     },
     "execution_count": 94,
     "metadata": {},
     "output_type": "execute_result"
    }
   ],
   "source": [
    "conn = sqlite3.connect(\"database.db\")\n",
    "df_clean.to_sql(\"nba\", conn, if_exists=\"replace\", index=False)\n"
   ],
   "metadata": {
    "collapsed": false,
    "ExecuteTime": {
     "end_time": "2024-11-10T09:48:09.279101Z",
     "start_time": "2024-11-10T09:47:56.213934Z"
    }
   },
   "id": "7f2f59a57e28e4dd",
   "execution_count": 94
  },
  {
   "cell_type": "markdown",
   "source": [
    "# Exploratory DAta Analysis (EDA)\n",
    "- Jump Shot accuracy by Zone (2pt and 3pt)\n",
    "- Accuracy by action type\n",
    "- Most efficient players + shot distribution heat map\n",
    "- Home vs. Performance for teams\n",
    "- Time trend in accuracy, points,  action type, etc"
   ],
   "metadata": {
    "collapsed": false
   },
   "id": "73fa870bf750cb3e"
  },
  {
   "cell_type": "markdown",
   "source": [
    "# Accuracy by action type"
   ],
   "metadata": {
    "collapsed": false
   },
   "id": "223d9cfe0c8ef275"
  },
  {
   "cell_type": "code",
   "outputs": [
    {
     "name": "stdout",
     "output_type": "stream",
     "text": [
      "Pandas and SQL versions are identical: True\n"
     ]
    },
    {
     "data": {
      "text/plain": "array(['Driving Layup Shot', 'Layup Shot', 'Jump Shot',\n       'Running Bank shot', 'Reverse Layup Shot', 'Jump Bank Shot',\n       'Tip Shot', 'Slam Dunk Shot', 'Hook Shot', 'Running Jump Shot',\n       'Dunk Shot', 'Step Back Jump shot', 'Putback Layup Shot',\n       'Floating Jump shot', 'Driving Reverse Layup Shot',\n       'Driving Dunk Shot', 'Reverse Dunk Shot', 'Pullup Jump shot',\n       'Turnaround Jump Shot', 'Alley Oop Dunk Shot',\n       'Running Layup Shot', 'Jump Hook Shot', 'Driving Bank shot',\n       'Alley Oop Layup shot', 'Putback Dunk Shot', 'Fadeaway Jump Shot',\n       'Turnaround Fadeaway shot', 'Finger Roll Layup Shot',\n       'Driving Slam Dunk Shot', 'Pullup Bank shot',\n       'Turnaround Hook Shot', 'Driving Jump shot',\n       'Turnaround Bank shot', 'Running Hook Shot',\n       'Driving Finger Roll Layup Shot', 'Fadeaway Bank shot',\n       'Reverse Slam Dunk Shot', 'Running Dunk Shot',\n       'Running Reverse Layup Shot', 'Putback Slam Dunk Shot',\n       'Driving Hook Shot', 'Jump Bank Hook Shot',\n       'Running Finger Roll Layup Shot', 'Driving Bank Hook Shot',\n       'Hook Bank Shot', 'Running Tip Shot', 'Turnaround Bank Hook Shot',\n       'Running Slam Dunk Shot', 'Running Bank Hook Shot',\n       'Driving Finger Roll Shot', 'Running Finger Roll Shot',\n       'Follow Up Dunk Shot', 'Finger Roll Shot',\n       'Turnaround Finger Roll Shot', 'Driving Floating Bank Jump Shot',\n       'Cutting Layup Shot', 'Cutting Finger Roll Layup Shot',\n       'Running Alley Oop Dunk Shot', 'Cutting Dunk Shot',\n       'Tip Layup Shot', 'Driving Floating Jump Shot', 'Tip Dunk Shot',\n       'Running Pull-Up Jump Shot', 'Turnaround Fadeaway Bank Jump Shot',\n       'Step Back Bank Jump Shot', 'Running Alley Oop Layup Shot',\n       'Running Reverse Dunk Shot', 'Driving Reverse Dunk Shot',\n       'No Shot', 'Putback Reverse Dunk Shot'], dtype=object)"
     },
     "execution_count": 95,
     "metadata": {},
     "output_type": "execute_result"
    }
   ],
   "source": [
    "action_types_p = df_clean.ACTION_TYPE.unique()\n",
    "action_types_sql = pd.read_sql(\"SELECT DISTINCT ACTION_TYPE from nba\", conn)\n",
    "print(\"Pandas and SQL versions are identical: \" + str(len(action_types_p) == len(action_types_sql)))\n",
    "action_types_p"
   ],
   "metadata": {
    "collapsed": false,
    "ExecuteTime": {
     "end_time": "2024-11-10T09:48:09.937916Z",
     "start_time": "2024-11-10T09:48:09.279748Z"
    }
   },
   "id": "f835fdde68bbeed1",
   "execution_count": 95
  },
  {
   "cell_type": "code",
   "outputs": [
    {
     "data": {
      "text/plain": "                       ACTION_TYPE  accuracy  avg_distance    count\n0               Cutting Layup Shot  0.717048      1.701533    42926\n1   Driving Finger Roll Layup Shot  0.675188      1.882761    45454\n2       Driving Floating Jump Shot  0.432528      7.890536    65894\n3               Driving Layup Shot  0.597654      1.508562   288734\n4                        Dunk Shot  0.870218      0.381341    67837\n5               Fadeaway Jump Shot  0.472016     12.970257    64250\n6               Floating Jump shot  0.485296      8.303880    58148\n7                        Hook Shot  0.449582      5.591407    66335\n8                        Jump Shot  0.345617     20.006034  2002674\n9                       Layup Shot  0.464173      0.852218   437781\n10                Pullup Jump shot  0.455386     19.054720   231979\n11              Reverse Layup Shot  0.655464      0.835459    42579\n12               Running Jump Shot  0.476322     13.259296    68628\n13              Running Layup Shot  0.642316      1.571416    55289\n14             Step Back Jump shot  0.429917     20.379205    85049\n15                  Tip Layup Shot  0.485268      0.382372    39098\n16                        Tip Shot  0.474044      0.461896    46675\n17            Turnaround Jump Shot  0.471090     10.517532    70927",
      "text/html": "<div>\n<style scoped>\n    .dataframe tbody tr th:only-of-type {\n        vertical-align: middle;\n    }\n\n    .dataframe tbody tr th {\n        vertical-align: top;\n    }\n\n    .dataframe thead th {\n        text-align: right;\n    }\n</style>\n<table border=\"1\" class=\"dataframe\">\n  <thead>\n    <tr style=\"text-align: right;\">\n      <th></th>\n      <th>ACTION_TYPE</th>\n      <th>accuracy</th>\n      <th>avg_distance</th>\n      <th>count</th>\n    </tr>\n  </thead>\n  <tbody>\n    <tr>\n      <th>0</th>\n      <td>Cutting Layup Shot</td>\n      <td>0.717048</td>\n      <td>1.701533</td>\n      <td>42926</td>\n    </tr>\n    <tr>\n      <th>1</th>\n      <td>Driving Finger Roll Layup Shot</td>\n      <td>0.675188</td>\n      <td>1.882761</td>\n      <td>45454</td>\n    </tr>\n    <tr>\n      <th>2</th>\n      <td>Driving Floating Jump Shot</td>\n      <td>0.432528</td>\n      <td>7.890536</td>\n      <td>65894</td>\n    </tr>\n    <tr>\n      <th>3</th>\n      <td>Driving Layup Shot</td>\n      <td>0.597654</td>\n      <td>1.508562</td>\n      <td>288734</td>\n    </tr>\n    <tr>\n      <th>4</th>\n      <td>Dunk Shot</td>\n      <td>0.870218</td>\n      <td>0.381341</td>\n      <td>67837</td>\n    </tr>\n    <tr>\n      <th>5</th>\n      <td>Fadeaway Jump Shot</td>\n      <td>0.472016</td>\n      <td>12.970257</td>\n      <td>64250</td>\n    </tr>\n    <tr>\n      <th>6</th>\n      <td>Floating Jump shot</td>\n      <td>0.485296</td>\n      <td>8.303880</td>\n      <td>58148</td>\n    </tr>\n    <tr>\n      <th>7</th>\n      <td>Hook Shot</td>\n      <td>0.449582</td>\n      <td>5.591407</td>\n      <td>66335</td>\n    </tr>\n    <tr>\n      <th>8</th>\n      <td>Jump Shot</td>\n      <td>0.345617</td>\n      <td>20.006034</td>\n      <td>2002674</td>\n    </tr>\n    <tr>\n      <th>9</th>\n      <td>Layup Shot</td>\n      <td>0.464173</td>\n      <td>0.852218</td>\n      <td>437781</td>\n    </tr>\n    <tr>\n      <th>10</th>\n      <td>Pullup Jump shot</td>\n      <td>0.455386</td>\n      <td>19.054720</td>\n      <td>231979</td>\n    </tr>\n    <tr>\n      <th>11</th>\n      <td>Reverse Layup Shot</td>\n      <td>0.655464</td>\n      <td>0.835459</td>\n      <td>42579</td>\n    </tr>\n    <tr>\n      <th>12</th>\n      <td>Running Jump Shot</td>\n      <td>0.476322</td>\n      <td>13.259296</td>\n      <td>68628</td>\n    </tr>\n    <tr>\n      <th>13</th>\n      <td>Running Layup Shot</td>\n      <td>0.642316</td>\n      <td>1.571416</td>\n      <td>55289</td>\n    </tr>\n    <tr>\n      <th>14</th>\n      <td>Step Back Jump shot</td>\n      <td>0.429917</td>\n      <td>20.379205</td>\n      <td>85049</td>\n    </tr>\n    <tr>\n      <th>15</th>\n      <td>Tip Layup Shot</td>\n      <td>0.485268</td>\n      <td>0.382372</td>\n      <td>39098</td>\n    </tr>\n    <tr>\n      <th>16</th>\n      <td>Tip Shot</td>\n      <td>0.474044</td>\n      <td>0.461896</td>\n      <td>46675</td>\n    </tr>\n    <tr>\n      <th>17</th>\n      <td>Turnaround Jump Shot</td>\n      <td>0.471090</td>\n      <td>10.517532</td>\n      <td>70927</td>\n    </tr>\n  </tbody>\n</table>\n</div>"
     },
     "execution_count": 113,
     "metadata": {},
     "output_type": "execute_result"
    }
   ],
   "source": [
    "# query = \"\"\"\n",
    "# SELECT *\n",
    "# FROM nba\n",
    "# WHERE\n",
    "#     SHOT_COUNT\n",
    "# \"\"\"\n",
    "# action_types_sql = pd.read_sql(\n",
    "# )\n",
    "popular_action_types_df_p = df_clean.groupby(\"ACTION_TYPE\").agg(count=(\"ACTION_TYPE\", \"count\")).sort_values(by=\"count\",\n",
    "                                                                                                            ascending=False)\n",
    "popular_action_types_df_p = popular_action_types_df_p[\n",
    "    popular_action_types_df_p[\"count\"] >= popular_action_types_df_p[\"count\"].quantile(0.75)].reset_index()\n",
    "action_types_75_p = df_clean[df_clean[\"ACTION_TYPE\"].isin(popular_action_types_df_p[\"ACTION_TYPE\"])][\n",
    "    [\"ACTION_TYPE\", \"SHOT_MADE\", \"SHOT_DISTANCE\"]]\n",
    "action_types_75_p = action_types_75_p.groupby(\"ACTION_TYPE\").agg(accuracy=(\"SHOT_MADE\", \"mean\"),\n",
    "                                                                 avg_distance=(\"SHOT_DISTANCE\", \"mean\"),\n",
    "                                                                 count=(\"SHOT_MADE\", \"count\")).reset_index()\n",
    "action_types_75_p"
   ],
   "metadata": {
    "collapsed": false,
    "ExecuteTime": {
     "end_time": "2024-11-10T10:06:59.535473Z",
     "start_time": "2024-11-10T10:06:58.629485Z"
    }
   },
   "id": "4873a05c597d1ace",
   "execution_count": 113
  },
  {
   "cell_type": "code",
   "outputs": [
    {
     "data": {
      "application/vnd.plotly.v1+json": {
       "data": [
        {
         "hovertemplate": "Action Type: %{text}<br>Accuracy: %{y:.2f}<br>Average Distance: %{x:.2f}<br>Attempt Count: %{marker.size:.0f}",
         "marker": {
          "color": [
           42926,
           45454,
           65894,
           288734,
           67837,
           64250,
           58148,
           66335,
           2002674,
           437781,
           231979,
           42579,
           68628,
           55289,
           85049,
           39098,
           46675,
           70927
          ],
          "colorbar": {
           "title": {
            "text": "Shots<br>Count"
           }
          },
          "colorscale": [
           [
            0.0,
            "#440154"
           ],
           [
            0.1111111111111111,
            "#482878"
           ],
           [
            0.2222222222222222,
            "#3e4989"
           ],
           [
            0.3333333333333333,
            "#31688e"
           ],
           [
            0.4444444444444444,
            "#26828e"
           ],
           [
            0.5555555555555556,
            "#1f9e89"
           ],
           [
            0.6666666666666666,
            "#35b779"
           ],
           [
            0.7777777777777778,
            "#6ece58"
           ],
           [
            0.8888888888888888,
            "#b5de2b"
           ],
           [
            1.0,
            "#fde725"
           ]
          ],
          "line": {
           "color": "rgb(140, 140, 170)"
          },
          "showscale": true,
          "size": [
           42926,
           45454,
           65894,
           288734,
           67837,
           64250,
           58148,
           66335,
           2002674,
           437781,
           231979,
           42579,
           68628,
           55289,
           85049,
           39098,
           46675,
           70927
          ],
          "sizemode": "area",
          "sizeref": 100
         },
         "mode": "markers",
         "name": "Action Types",
         "text": [
          "Cutting Layup Shot",
          "Driving Finger Roll Layup Shot",
          "Driving Floating Jump Shot",
          "Driving Layup Shot",
          "Dunk Shot",
          "Fadeaway Jump Shot",
          "Floating Jump shot",
          "Hook Shot",
          "Jump Shot",
          "Layup Shot",
          "Pullup Jump shot",
          "Reverse Layup Shot",
          "Running Jump Shot",
          "Running Layup Shot",
          "Step Back Jump shot",
          "Tip Layup Shot",
          "Tip Shot",
          "Turnaround Jump Shot"
         ],
         "x": [
          1.7015328705213624,
          1.8827605931271176,
          7.890536315901296,
          1.5085615133652428,
          0.38134056635759245,
          12.97025680933852,
          8.303879755107657,
          5.591407251074093,
          20.00603393263207,
          0.8522183466162305,
          19.054720470387405,
          0.8354587942412927,
          13.259296497056596,
          1.5714156522997342,
          20.379204928923325,
          0.38237249987211624,
          0.46189608998393145,
          10.51753211047979
         ],
         "y": [
          71.70479429716255,
          67.51881022572272,
          43.252799951437154,
          59.76538959734565,
          87.02183174373866,
          47.201556420233466,
          48.52961408818876,
          44.958166880229136,
          34.56169101910746,
          46.41727256322225,
          45.538604787502315,
          65.54639611075882,
          47.63216179984846,
          64.23158313588598,
          42.991687145057554,
          48.52677886336897,
          47.40439207284414,
          47.10899939374286
         ],
         "type": "scatter"
        }
       ],
       "layout": {
        "template": {
         "data": {
          "histogram2dcontour": [
           {
            "type": "histogram2dcontour",
            "colorbar": {
             "outlinewidth": 0,
             "ticks": ""
            },
            "colorscale": [
             [
              0.0,
              "#0d0887"
             ],
             [
              0.1111111111111111,
              "#46039f"
             ],
             [
              0.2222222222222222,
              "#7201a8"
             ],
             [
              0.3333333333333333,
              "#9c179e"
             ],
             [
              0.4444444444444444,
              "#bd3786"
             ],
             [
              0.5555555555555556,
              "#d8576b"
             ],
             [
              0.6666666666666666,
              "#ed7953"
             ],
             [
              0.7777777777777778,
              "#fb9f3a"
             ],
             [
              0.8888888888888888,
              "#fdca26"
             ],
             [
              1.0,
              "#f0f921"
             ]
            ]
           }
          ],
          "choropleth": [
           {
            "type": "choropleth",
            "colorbar": {
             "outlinewidth": 0,
             "ticks": ""
            }
           }
          ],
          "histogram2d": [
           {
            "type": "histogram2d",
            "colorbar": {
             "outlinewidth": 0,
             "ticks": ""
            },
            "colorscale": [
             [
              0.0,
              "#0d0887"
             ],
             [
              0.1111111111111111,
              "#46039f"
             ],
             [
              0.2222222222222222,
              "#7201a8"
             ],
             [
              0.3333333333333333,
              "#9c179e"
             ],
             [
              0.4444444444444444,
              "#bd3786"
             ],
             [
              0.5555555555555556,
              "#d8576b"
             ],
             [
              0.6666666666666666,
              "#ed7953"
             ],
             [
              0.7777777777777778,
              "#fb9f3a"
             ],
             [
              0.8888888888888888,
              "#fdca26"
             ],
             [
              1.0,
              "#f0f921"
             ]
            ]
           }
          ],
          "heatmap": [
           {
            "type": "heatmap",
            "colorbar": {
             "outlinewidth": 0,
             "ticks": ""
            },
            "colorscale": [
             [
              0.0,
              "#0d0887"
             ],
             [
              0.1111111111111111,
              "#46039f"
             ],
             [
              0.2222222222222222,
              "#7201a8"
             ],
             [
              0.3333333333333333,
              "#9c179e"
             ],
             [
              0.4444444444444444,
              "#bd3786"
             ],
             [
              0.5555555555555556,
              "#d8576b"
             ],
             [
              0.6666666666666666,
              "#ed7953"
             ],
             [
              0.7777777777777778,
              "#fb9f3a"
             ],
             [
              0.8888888888888888,
              "#fdca26"
             ],
             [
              1.0,
              "#f0f921"
             ]
            ]
           }
          ],
          "heatmapgl": [
           {
            "type": "heatmapgl",
            "colorbar": {
             "outlinewidth": 0,
             "ticks": ""
            },
            "colorscale": [
             [
              0.0,
              "#0d0887"
             ],
             [
              0.1111111111111111,
              "#46039f"
             ],
             [
              0.2222222222222222,
              "#7201a8"
             ],
             [
              0.3333333333333333,
              "#9c179e"
             ],
             [
              0.4444444444444444,
              "#bd3786"
             ],
             [
              0.5555555555555556,
              "#d8576b"
             ],
             [
              0.6666666666666666,
              "#ed7953"
             ],
             [
              0.7777777777777778,
              "#fb9f3a"
             ],
             [
              0.8888888888888888,
              "#fdca26"
             ],
             [
              1.0,
              "#f0f921"
             ]
            ]
           }
          ],
          "contourcarpet": [
           {
            "type": "contourcarpet",
            "colorbar": {
             "outlinewidth": 0,
             "ticks": ""
            }
           }
          ],
          "contour": [
           {
            "type": "contour",
            "colorbar": {
             "outlinewidth": 0,
             "ticks": ""
            },
            "colorscale": [
             [
              0.0,
              "#0d0887"
             ],
             [
              0.1111111111111111,
              "#46039f"
             ],
             [
              0.2222222222222222,
              "#7201a8"
             ],
             [
              0.3333333333333333,
              "#9c179e"
             ],
             [
              0.4444444444444444,
              "#bd3786"
             ],
             [
              0.5555555555555556,
              "#d8576b"
             ],
             [
              0.6666666666666666,
              "#ed7953"
             ],
             [
              0.7777777777777778,
              "#fb9f3a"
             ],
             [
              0.8888888888888888,
              "#fdca26"
             ],
             [
              1.0,
              "#f0f921"
             ]
            ]
           }
          ],
          "surface": [
           {
            "type": "surface",
            "colorbar": {
             "outlinewidth": 0,
             "ticks": ""
            },
            "colorscale": [
             [
              0.0,
              "#0d0887"
             ],
             [
              0.1111111111111111,
              "#46039f"
             ],
             [
              0.2222222222222222,
              "#7201a8"
             ],
             [
              0.3333333333333333,
              "#9c179e"
             ],
             [
              0.4444444444444444,
              "#bd3786"
             ],
             [
              0.5555555555555556,
              "#d8576b"
             ],
             [
              0.6666666666666666,
              "#ed7953"
             ],
             [
              0.7777777777777778,
              "#fb9f3a"
             ],
             [
              0.8888888888888888,
              "#fdca26"
             ],
             [
              1.0,
              "#f0f921"
             ]
            ]
           }
          ],
          "mesh3d": [
           {
            "type": "mesh3d",
            "colorbar": {
             "outlinewidth": 0,
             "ticks": ""
            }
           }
          ],
          "scatter": [
           {
            "fillpattern": {
             "fillmode": "overlay",
             "size": 10,
             "solidity": 0.2
            },
            "type": "scatter"
           }
          ],
          "parcoords": [
           {
            "type": "parcoords",
            "line": {
             "colorbar": {
              "outlinewidth": 0,
              "ticks": ""
             }
            }
           }
          ],
          "scatterpolargl": [
           {
            "type": "scatterpolargl",
            "marker": {
             "colorbar": {
              "outlinewidth": 0,
              "ticks": ""
             }
            }
           }
          ],
          "bar": [
           {
            "error_x": {
             "color": "#2a3f5f"
            },
            "error_y": {
             "color": "#2a3f5f"
            },
            "marker": {
             "line": {
              "color": "#E5ECF6",
              "width": 0.5
             },
             "pattern": {
              "fillmode": "overlay",
              "size": 10,
              "solidity": 0.2
             }
            },
            "type": "bar"
           }
          ],
          "scattergeo": [
           {
            "type": "scattergeo",
            "marker": {
             "colorbar": {
              "outlinewidth": 0,
              "ticks": ""
             }
            }
           }
          ],
          "scatterpolar": [
           {
            "type": "scatterpolar",
            "marker": {
             "colorbar": {
              "outlinewidth": 0,
              "ticks": ""
             }
            }
           }
          ],
          "histogram": [
           {
            "marker": {
             "pattern": {
              "fillmode": "overlay",
              "size": 10,
              "solidity": 0.2
             }
            },
            "type": "histogram"
           }
          ],
          "scattergl": [
           {
            "type": "scattergl",
            "marker": {
             "colorbar": {
              "outlinewidth": 0,
              "ticks": ""
             }
            }
           }
          ],
          "scatter3d": [
           {
            "type": "scatter3d",
            "line": {
             "colorbar": {
              "outlinewidth": 0,
              "ticks": ""
             }
            },
            "marker": {
             "colorbar": {
              "outlinewidth": 0,
              "ticks": ""
             }
            }
           }
          ],
          "scattermapbox": [
           {
            "type": "scattermapbox",
            "marker": {
             "colorbar": {
              "outlinewidth": 0,
              "ticks": ""
             }
            }
           }
          ],
          "scatterternary": [
           {
            "type": "scatterternary",
            "marker": {
             "colorbar": {
              "outlinewidth": 0,
              "ticks": ""
             }
            }
           }
          ],
          "scattercarpet": [
           {
            "type": "scattercarpet",
            "marker": {
             "colorbar": {
              "outlinewidth": 0,
              "ticks": ""
             }
            }
           }
          ],
          "carpet": [
           {
            "aaxis": {
             "endlinecolor": "#2a3f5f",
             "gridcolor": "white",
             "linecolor": "white",
             "minorgridcolor": "white",
             "startlinecolor": "#2a3f5f"
            },
            "baxis": {
             "endlinecolor": "#2a3f5f",
             "gridcolor": "white",
             "linecolor": "white",
             "minorgridcolor": "white",
             "startlinecolor": "#2a3f5f"
            },
            "type": "carpet"
           }
          ],
          "table": [
           {
            "cells": {
             "fill": {
              "color": "#EBF0F8"
             },
             "line": {
              "color": "white"
             }
            },
            "header": {
             "fill": {
              "color": "#C8D4E3"
             },
             "line": {
              "color": "white"
             }
            },
            "type": "table"
           }
          ],
          "barpolar": [
           {
            "marker": {
             "line": {
              "color": "#E5ECF6",
              "width": 0.5
             },
             "pattern": {
              "fillmode": "overlay",
              "size": 10,
              "solidity": 0.2
             }
            },
            "type": "barpolar"
           }
          ],
          "pie": [
           {
            "automargin": true,
            "type": "pie"
           }
          ]
         },
         "layout": {
          "autotypenumbers": "strict",
          "colorway": [
           "#636efa",
           "#EF553B",
           "#00cc96",
           "#ab63fa",
           "#FFA15A",
           "#19d3f3",
           "#FF6692",
           "#B6E880",
           "#FF97FF",
           "#FECB52"
          ],
          "font": {
           "color": "#2a3f5f"
          },
          "hovermode": "closest",
          "hoverlabel": {
           "align": "left"
          },
          "paper_bgcolor": "white",
          "plot_bgcolor": "#E5ECF6",
          "polar": {
           "bgcolor": "#E5ECF6",
           "angularaxis": {
            "gridcolor": "white",
            "linecolor": "white",
            "ticks": ""
           },
           "radialaxis": {
            "gridcolor": "white",
            "linecolor": "white",
            "ticks": ""
           }
          },
          "ternary": {
           "bgcolor": "#E5ECF6",
           "aaxis": {
            "gridcolor": "white",
            "linecolor": "white",
            "ticks": ""
           },
           "baxis": {
            "gridcolor": "white",
            "linecolor": "white",
            "ticks": ""
           },
           "caxis": {
            "gridcolor": "white",
            "linecolor": "white",
            "ticks": ""
           }
          },
          "coloraxis": {
           "colorbar": {
            "outlinewidth": 0,
            "ticks": ""
           }
          },
          "colorscale": {
           "sequential": [
            [
             0.0,
             "#0d0887"
            ],
            [
             0.1111111111111111,
             "#46039f"
            ],
            [
             0.2222222222222222,
             "#7201a8"
            ],
            [
             0.3333333333333333,
             "#9c179e"
            ],
            [
             0.4444444444444444,
             "#bd3786"
            ],
            [
             0.5555555555555556,
             "#d8576b"
            ],
            [
             0.6666666666666666,
             "#ed7953"
            ],
            [
             0.7777777777777778,
             "#fb9f3a"
            ],
            [
             0.8888888888888888,
             "#fdca26"
            ],
            [
             1.0,
             "#f0f921"
            ]
           ],
           "sequentialminus": [
            [
             0.0,
             "#0d0887"
            ],
            [
             0.1111111111111111,
             "#46039f"
            ],
            [
             0.2222222222222222,
             "#7201a8"
            ],
            [
             0.3333333333333333,
             "#9c179e"
            ],
            [
             0.4444444444444444,
             "#bd3786"
            ],
            [
             0.5555555555555556,
             "#d8576b"
            ],
            [
             0.6666666666666666,
             "#ed7953"
            ],
            [
             0.7777777777777778,
             "#fb9f3a"
            ],
            [
             0.8888888888888888,
             "#fdca26"
            ],
            [
             1.0,
             "#f0f921"
            ]
           ],
           "diverging": [
            [
             0,
             "#8e0152"
            ],
            [
             0.1,
             "#c51b7d"
            ],
            [
             0.2,
             "#de77ae"
            ],
            [
             0.3,
             "#f1b6da"
            ],
            [
             0.4,
             "#fde0ef"
            ],
            [
             0.5,
             "#f7f7f7"
            ],
            [
             0.6,
             "#e6f5d0"
            ],
            [
             0.7,
             "#b8e186"
            ],
            [
             0.8,
             "#7fbc41"
            ],
            [
             0.9,
             "#4d9221"
            ],
            [
             1,
             "#276419"
            ]
           ]
          },
          "xaxis": {
           "gridcolor": "white",
           "linecolor": "white",
           "ticks": "",
           "title": {
            "standoff": 15
           },
           "zerolinecolor": "white",
           "automargin": true,
           "zerolinewidth": 2
          },
          "yaxis": {
           "gridcolor": "white",
           "linecolor": "white",
           "ticks": "",
           "title": {
            "standoff": 15
           },
           "zerolinecolor": "white",
           "automargin": true,
           "zerolinewidth": 2
          },
          "scene": {
           "xaxis": {
            "backgroundcolor": "#E5ECF6",
            "gridcolor": "white",
            "linecolor": "white",
            "showbackground": true,
            "ticks": "",
            "zerolinecolor": "white",
            "gridwidth": 2
           },
           "yaxis": {
            "backgroundcolor": "#E5ECF6",
            "gridcolor": "white",
            "linecolor": "white",
            "showbackground": true,
            "ticks": "",
            "zerolinecolor": "white",
            "gridwidth": 2
           },
           "zaxis": {
            "backgroundcolor": "#E5ECF6",
            "gridcolor": "white",
            "linecolor": "white",
            "showbackground": true,
            "ticks": "",
            "zerolinecolor": "white",
            "gridwidth": 2
           }
          },
          "shapedefaults": {
           "line": {
            "color": "#2a3f5f"
           }
          },
          "annotationdefaults": {
           "arrowcolor": "#2a3f5f",
           "arrowhead": 0,
           "arrowwidth": 1
          },
          "geo": {
           "bgcolor": "white",
           "landcolor": "#E5ECF6",
           "subunitcolor": "white",
           "showland": true,
           "showlakes": true,
           "lakecolor": "white"
          },
          "title": {
           "x": 0.05
          },
          "mapbox": {
           "style": "light"
          }
         }
        },
        "xaxis": {
         "title": {
          "text": "Average Distance"
         },
         "gridcolor": "white",
         "gridwidth": 2
        },
        "yaxis": {
         "title": {
          "text": "Accuracy (%)"
         },
         "gridcolor": "white",
         "gridwidth": 2
        },
        "width": 1400,
        "height": 800,
        "title": {
         "text": "NBA Players Action Type Accuracy, Shot Distance and Attempt Count"
        }
       },
       "config": {
        "plotlyServerURL": "https://plot.ly"
       }
      },
      "text/html": "<div>                            <div id=\"c19a98a8-cff8-48cc-b991-9d55cbf903ae\" class=\"plotly-graph-div\" style=\"height:800px; width:1400px;\"></div>            <script type=\"text/javascript\">                require([\"plotly\"], function(Plotly) {                    window.PLOTLYENV=window.PLOTLYENV || {};                                    if (document.getElementById(\"c19a98a8-cff8-48cc-b991-9d55cbf903ae\")) {                    Plotly.newPlot(                        \"c19a98a8-cff8-48cc-b991-9d55cbf903ae\",                        [{\"hovertemplate\":\"Action Type: %{text}\\u003cbr\\u003eAccuracy: %{y:.2f}\\u003cbr\\u003eAverage Distance: %{x:.2f}\\u003cbr\\u003eAttempt Count: %{marker.size:.0f}\",\"marker\":{\"color\":[42926,45454,65894,288734,67837,64250,58148,66335,2002674,437781,231979,42579,68628,55289,85049,39098,46675,70927],\"colorbar\":{\"title\":{\"text\":\"Shots\\u003cbr\\u003eCount\"}},\"colorscale\":[[0.0,\"#440154\"],[0.1111111111111111,\"#482878\"],[0.2222222222222222,\"#3e4989\"],[0.3333333333333333,\"#31688e\"],[0.4444444444444444,\"#26828e\"],[0.5555555555555556,\"#1f9e89\"],[0.6666666666666666,\"#35b779\"],[0.7777777777777778,\"#6ece58\"],[0.8888888888888888,\"#b5de2b\"],[1.0,\"#fde725\"]],\"line\":{\"color\":\"rgb(140, 140, 170)\"},\"showscale\":true,\"size\":[42926,45454,65894,288734,67837,64250,58148,66335,2002674,437781,231979,42579,68628,55289,85049,39098,46675,70927],\"sizemode\":\"area\",\"sizeref\":100},\"mode\":\"markers\",\"name\":\"Action Types\",\"text\":[\"Cutting Layup Shot\",\"Driving Finger Roll Layup Shot\",\"Driving Floating Jump Shot\",\"Driving Layup Shot\",\"Dunk Shot\",\"Fadeaway Jump Shot\",\"Floating Jump shot\",\"Hook Shot\",\"Jump Shot\",\"Layup Shot\",\"Pullup Jump shot\",\"Reverse Layup Shot\",\"Running Jump Shot\",\"Running Layup Shot\",\"Step Back Jump shot\",\"Tip Layup Shot\",\"Tip Shot\",\"Turnaround Jump Shot\"],\"x\":[1.7015328705213624,1.8827605931271176,7.890536315901296,1.5085615133652428,0.38134056635759245,12.97025680933852,8.303879755107657,5.591407251074093,20.00603393263207,0.8522183466162305,19.054720470387405,0.8354587942412927,13.259296497056596,1.5714156522997342,20.379204928923325,0.38237249987211624,0.46189608998393145,10.51753211047979],\"y\":[71.70479429716255,67.51881022572272,43.252799951437154,59.76538959734565,87.02183174373866,47.201556420233466,48.52961408818876,44.958166880229136,34.56169101910746,46.41727256322225,45.538604787502315,65.54639611075882,47.63216179984846,64.23158313588598,42.991687145057554,48.52677886336897,47.40439207284414,47.10899939374286],\"type\":\"scatter\"}],                        {\"template\":{\"data\":{\"histogram2dcontour\":[{\"type\":\"histogram2dcontour\",\"colorbar\":{\"outlinewidth\":0,\"ticks\":\"\"},\"colorscale\":[[0.0,\"#0d0887\"],[0.1111111111111111,\"#46039f\"],[0.2222222222222222,\"#7201a8\"],[0.3333333333333333,\"#9c179e\"],[0.4444444444444444,\"#bd3786\"],[0.5555555555555556,\"#d8576b\"],[0.6666666666666666,\"#ed7953\"],[0.7777777777777778,\"#fb9f3a\"],[0.8888888888888888,\"#fdca26\"],[1.0,\"#f0f921\"]]}],\"choropleth\":[{\"type\":\"choropleth\",\"colorbar\":{\"outlinewidth\":0,\"ticks\":\"\"}}],\"histogram2d\":[{\"type\":\"histogram2d\",\"colorbar\":{\"outlinewidth\":0,\"ticks\":\"\"},\"colorscale\":[[0.0,\"#0d0887\"],[0.1111111111111111,\"#46039f\"],[0.2222222222222222,\"#7201a8\"],[0.3333333333333333,\"#9c179e\"],[0.4444444444444444,\"#bd3786\"],[0.5555555555555556,\"#d8576b\"],[0.6666666666666666,\"#ed7953\"],[0.7777777777777778,\"#fb9f3a\"],[0.8888888888888888,\"#fdca26\"],[1.0,\"#f0f921\"]]}],\"heatmap\":[{\"type\":\"heatmap\",\"colorbar\":{\"outlinewidth\":0,\"ticks\":\"\"},\"colorscale\":[[0.0,\"#0d0887\"],[0.1111111111111111,\"#46039f\"],[0.2222222222222222,\"#7201a8\"],[0.3333333333333333,\"#9c179e\"],[0.4444444444444444,\"#bd3786\"],[0.5555555555555556,\"#d8576b\"],[0.6666666666666666,\"#ed7953\"],[0.7777777777777778,\"#fb9f3a\"],[0.8888888888888888,\"#fdca26\"],[1.0,\"#f0f921\"]]}],\"heatmapgl\":[{\"type\":\"heatmapgl\",\"colorbar\":{\"outlinewidth\":0,\"ticks\":\"\"},\"colorscale\":[[0.0,\"#0d0887\"],[0.1111111111111111,\"#46039f\"],[0.2222222222222222,\"#7201a8\"],[0.3333333333333333,\"#9c179e\"],[0.4444444444444444,\"#bd3786\"],[0.5555555555555556,\"#d8576b\"],[0.6666666666666666,\"#ed7953\"],[0.7777777777777778,\"#fb9f3a\"],[0.8888888888888888,\"#fdca26\"],[1.0,\"#f0f921\"]]}],\"contourcarpet\":[{\"type\":\"contourcarpet\",\"colorbar\":{\"outlinewidth\":0,\"ticks\":\"\"}}],\"contour\":[{\"type\":\"contour\",\"colorbar\":{\"outlinewidth\":0,\"ticks\":\"\"},\"colorscale\":[[0.0,\"#0d0887\"],[0.1111111111111111,\"#46039f\"],[0.2222222222222222,\"#7201a8\"],[0.3333333333333333,\"#9c179e\"],[0.4444444444444444,\"#bd3786\"],[0.5555555555555556,\"#d8576b\"],[0.6666666666666666,\"#ed7953\"],[0.7777777777777778,\"#fb9f3a\"],[0.8888888888888888,\"#fdca26\"],[1.0,\"#f0f921\"]]}],\"surface\":[{\"type\":\"surface\",\"colorbar\":{\"outlinewidth\":0,\"ticks\":\"\"},\"colorscale\":[[0.0,\"#0d0887\"],[0.1111111111111111,\"#46039f\"],[0.2222222222222222,\"#7201a8\"],[0.3333333333333333,\"#9c179e\"],[0.4444444444444444,\"#bd3786\"],[0.5555555555555556,\"#d8576b\"],[0.6666666666666666,\"#ed7953\"],[0.7777777777777778,\"#fb9f3a\"],[0.8888888888888888,\"#fdca26\"],[1.0,\"#f0f921\"]]}],\"mesh3d\":[{\"type\":\"mesh3d\",\"colorbar\":{\"outlinewidth\":0,\"ticks\":\"\"}}],\"scatter\":[{\"fillpattern\":{\"fillmode\":\"overlay\",\"size\":10,\"solidity\":0.2},\"type\":\"scatter\"}],\"parcoords\":[{\"type\":\"parcoords\",\"line\":{\"colorbar\":{\"outlinewidth\":0,\"ticks\":\"\"}}}],\"scatterpolargl\":[{\"type\":\"scatterpolargl\",\"marker\":{\"colorbar\":{\"outlinewidth\":0,\"ticks\":\"\"}}}],\"bar\":[{\"error_x\":{\"color\":\"#2a3f5f\"},\"error_y\":{\"color\":\"#2a3f5f\"},\"marker\":{\"line\":{\"color\":\"#E5ECF6\",\"width\":0.5},\"pattern\":{\"fillmode\":\"overlay\",\"size\":10,\"solidity\":0.2}},\"type\":\"bar\"}],\"scattergeo\":[{\"type\":\"scattergeo\",\"marker\":{\"colorbar\":{\"outlinewidth\":0,\"ticks\":\"\"}}}],\"scatterpolar\":[{\"type\":\"scatterpolar\",\"marker\":{\"colorbar\":{\"outlinewidth\":0,\"ticks\":\"\"}}}],\"histogram\":[{\"marker\":{\"pattern\":{\"fillmode\":\"overlay\",\"size\":10,\"solidity\":0.2}},\"type\":\"histogram\"}],\"scattergl\":[{\"type\":\"scattergl\",\"marker\":{\"colorbar\":{\"outlinewidth\":0,\"ticks\":\"\"}}}],\"scatter3d\":[{\"type\":\"scatter3d\",\"line\":{\"colorbar\":{\"outlinewidth\":0,\"ticks\":\"\"}},\"marker\":{\"colorbar\":{\"outlinewidth\":0,\"ticks\":\"\"}}}],\"scattermapbox\":[{\"type\":\"scattermapbox\",\"marker\":{\"colorbar\":{\"outlinewidth\":0,\"ticks\":\"\"}}}],\"scatterternary\":[{\"type\":\"scatterternary\",\"marker\":{\"colorbar\":{\"outlinewidth\":0,\"ticks\":\"\"}}}],\"scattercarpet\":[{\"type\":\"scattercarpet\",\"marker\":{\"colorbar\":{\"outlinewidth\":0,\"ticks\":\"\"}}}],\"carpet\":[{\"aaxis\":{\"endlinecolor\":\"#2a3f5f\",\"gridcolor\":\"white\",\"linecolor\":\"white\",\"minorgridcolor\":\"white\",\"startlinecolor\":\"#2a3f5f\"},\"baxis\":{\"endlinecolor\":\"#2a3f5f\",\"gridcolor\":\"white\",\"linecolor\":\"white\",\"minorgridcolor\":\"white\",\"startlinecolor\":\"#2a3f5f\"},\"type\":\"carpet\"}],\"table\":[{\"cells\":{\"fill\":{\"color\":\"#EBF0F8\"},\"line\":{\"color\":\"white\"}},\"header\":{\"fill\":{\"color\":\"#C8D4E3\"},\"line\":{\"color\":\"white\"}},\"type\":\"table\"}],\"barpolar\":[{\"marker\":{\"line\":{\"color\":\"#E5ECF6\",\"width\":0.5},\"pattern\":{\"fillmode\":\"overlay\",\"size\":10,\"solidity\":0.2}},\"type\":\"barpolar\"}],\"pie\":[{\"automargin\":true,\"type\":\"pie\"}]},\"layout\":{\"autotypenumbers\":\"strict\",\"colorway\":[\"#636efa\",\"#EF553B\",\"#00cc96\",\"#ab63fa\",\"#FFA15A\",\"#19d3f3\",\"#FF6692\",\"#B6E880\",\"#FF97FF\",\"#FECB52\"],\"font\":{\"color\":\"#2a3f5f\"},\"hovermode\":\"closest\",\"hoverlabel\":{\"align\":\"left\"},\"paper_bgcolor\":\"white\",\"plot_bgcolor\":\"#E5ECF6\",\"polar\":{\"bgcolor\":\"#E5ECF6\",\"angularaxis\":{\"gridcolor\":\"white\",\"linecolor\":\"white\",\"ticks\":\"\"},\"radialaxis\":{\"gridcolor\":\"white\",\"linecolor\":\"white\",\"ticks\":\"\"}},\"ternary\":{\"bgcolor\":\"#E5ECF6\",\"aaxis\":{\"gridcolor\":\"white\",\"linecolor\":\"white\",\"ticks\":\"\"},\"baxis\":{\"gridcolor\":\"white\",\"linecolor\":\"white\",\"ticks\":\"\"},\"caxis\":{\"gridcolor\":\"white\",\"linecolor\":\"white\",\"ticks\":\"\"}},\"coloraxis\":{\"colorbar\":{\"outlinewidth\":0,\"ticks\":\"\"}},\"colorscale\":{\"sequential\":[[0.0,\"#0d0887\"],[0.1111111111111111,\"#46039f\"],[0.2222222222222222,\"#7201a8\"],[0.3333333333333333,\"#9c179e\"],[0.4444444444444444,\"#bd3786\"],[0.5555555555555556,\"#d8576b\"],[0.6666666666666666,\"#ed7953\"],[0.7777777777777778,\"#fb9f3a\"],[0.8888888888888888,\"#fdca26\"],[1.0,\"#f0f921\"]],\"sequentialminus\":[[0.0,\"#0d0887\"],[0.1111111111111111,\"#46039f\"],[0.2222222222222222,\"#7201a8\"],[0.3333333333333333,\"#9c179e\"],[0.4444444444444444,\"#bd3786\"],[0.5555555555555556,\"#d8576b\"],[0.6666666666666666,\"#ed7953\"],[0.7777777777777778,\"#fb9f3a\"],[0.8888888888888888,\"#fdca26\"],[1.0,\"#f0f921\"]],\"diverging\":[[0,\"#8e0152\"],[0.1,\"#c51b7d\"],[0.2,\"#de77ae\"],[0.3,\"#f1b6da\"],[0.4,\"#fde0ef\"],[0.5,\"#f7f7f7\"],[0.6,\"#e6f5d0\"],[0.7,\"#b8e186\"],[0.8,\"#7fbc41\"],[0.9,\"#4d9221\"],[1,\"#276419\"]]},\"xaxis\":{\"gridcolor\":\"white\",\"linecolor\":\"white\",\"ticks\":\"\",\"title\":{\"standoff\":15},\"zerolinecolor\":\"white\",\"automargin\":true,\"zerolinewidth\":2},\"yaxis\":{\"gridcolor\":\"white\",\"linecolor\":\"white\",\"ticks\":\"\",\"title\":{\"standoff\":15},\"zerolinecolor\":\"white\",\"automargin\":true,\"zerolinewidth\":2},\"scene\":{\"xaxis\":{\"backgroundcolor\":\"#E5ECF6\",\"gridcolor\":\"white\",\"linecolor\":\"white\",\"showbackground\":true,\"ticks\":\"\",\"zerolinecolor\":\"white\",\"gridwidth\":2},\"yaxis\":{\"backgroundcolor\":\"#E5ECF6\",\"gridcolor\":\"white\",\"linecolor\":\"white\",\"showbackground\":true,\"ticks\":\"\",\"zerolinecolor\":\"white\",\"gridwidth\":2},\"zaxis\":{\"backgroundcolor\":\"#E5ECF6\",\"gridcolor\":\"white\",\"linecolor\":\"white\",\"showbackground\":true,\"ticks\":\"\",\"zerolinecolor\":\"white\",\"gridwidth\":2}},\"shapedefaults\":{\"line\":{\"color\":\"#2a3f5f\"}},\"annotationdefaults\":{\"arrowcolor\":\"#2a3f5f\",\"arrowhead\":0,\"arrowwidth\":1},\"geo\":{\"bgcolor\":\"white\",\"landcolor\":\"#E5ECF6\",\"subunitcolor\":\"white\",\"showland\":true,\"showlakes\":true,\"lakecolor\":\"white\"},\"title\":{\"x\":0.05},\"mapbox\":{\"style\":\"light\"}}},\"xaxis\":{\"title\":{\"text\":\"Average Distance\"},\"gridcolor\":\"white\",\"gridwidth\":2},\"yaxis\":{\"title\":{\"text\":\"Accuracy (%)\"},\"gridcolor\":\"white\",\"gridwidth\":2},\"width\":1400,\"height\":800,\"title\":{\"text\":\"NBA Players Action Type Accuracy, Shot Distance and Attempt Count\"}},                        {\"responsive\": true}                    ).then(function(){\n                            \nvar gd = document.getElementById('c19a98a8-cff8-48cc-b991-9d55cbf903ae');\nvar x = new MutationObserver(function (mutations, observer) {{\n        var display = window.getComputedStyle(gd).display;\n        if (!display || display === 'none') {{\n            console.log([gd, 'removed!']);\n            Plotly.purge(gd);\n            observer.disconnect();\n        }}\n}});\n\n// Listen for the removal of the full notebook cells\nvar notebookContainer = gd.closest('#notebook-container');\nif (notebookContainer) {{\n    x.observe(notebookContainer, {childList: true});\n}}\n\n// Listen for the clearing of the current output cell\nvar outputEl = gd.closest('.output');\nif (outputEl) {{\n    x.observe(outputEl, {childList: true});\n}}\n\n                        })                };                });            </script>        </div>"
     },
     "metadata": {},
     "output_type": "display_data"
    }
   ],
   "source": [
    "# Bubble Chart (Scatter Plot with Bubble Size)\n",
    "# using tuple unpacking for multiple Axes\n",
    "\n",
    "\n",
    "fig = go.Figure()\n",
    "fig.update_layout(width=1400, height=800, title=\"NBA Players Action Type Accuracy, Shot Distance and Attempt Count\",\n",
    "                  xaxis=dict(\n",
    "                      title=\"Average Distance\",\n",
    "                      gridcolor=\"white\",\n",
    "                      gridwidth=2,\n",
    "                  ),\n",
    "                  yaxis=dict(\n",
    "                      title=\"Accuracy (%)\",\n",
    "                      gridcolor=\"white\",\n",
    "                      gridwidth=2,\n",
    "                  ),\n",
    "                  )\n",
    "fig.add_trace(\n",
    "    go.Scatter(\n",
    "        x=action_types_75_p[\"avg_distance\"],\n",
    "        y=action_types_75_p[\"accuracy\"] * 100,\n",
    "        mode=\"markers\",\n",
    "        marker=dict(\n",
    "            size=action_types_75_p[\"count\"],\n",
    "            sizemode=\"area\",\n",
    "            sizeref=100,\n",
    "            color=action_types_75_p[\"count\"],\n",
    "            colorscale=\"Viridis\",\n",
    "            showscale=True,\n",
    "            line_color='rgb(140, 140, 170)',\n",
    "            colorbar_title='Shots<br>Count',\n",
    "        ),\n",
    "    text=action_types_75_p[\"ACTION_TYPE\"],\n",
    "    hovertemplate=(\n",
    "            \"Action Type: %{text}<br>\" +\n",
    "            \"Accuracy: %{y:.2f}<br>\" +\n",
    "            \"Average Distance: %{x:.2f}<br>\" +\n",
    "            \"Attempt Count: %{marker.size:.0f}\"\n",
    "    ),\n",
    "    name=\"Action Types\"\n",
    "    )\n",
    ")\n",
    "# Stacked or Grouped Bar Chart\n",
    "# Heatmap with Annotations\n",
    "# 3D Scatter Plot"
   ],
   "metadata": {
    "collapsed": false,
    "ExecuteTime": {
     "end_time": "2024-11-10T10:28:13.154878Z",
     "start_time": "2024-11-10T10:28:13.144950Z"
    }
   },
   "id": "beb5f499b1661d7c",
   "execution_count": 154
  },
  {
   "cell_type": "markdown",
   "source": [
    "# Predictive Models\n",
    "- Shot success and accuracy prediction model\n",
    "- Players synergy and selection model ? "
   ],
   "metadata": {
    "collapsed": false
   },
   "id": "9176e3048d4d778d"
  },
  {
   "cell_type": "code",
   "outputs": [],
   "source": [
    "conn.close()"
   ],
   "metadata": {
    "collapsed": false,
    "ExecuteTime": {
     "end_time": "2024-11-10T08:26:21.813386Z",
     "start_time": "2024-11-10T08:26:21.809935Z"
    }
   },
   "id": "42a5a2a73fd469f",
   "execution_count": 40
  },
  {
   "cell_type": "code",
   "outputs": [],
   "source": [],
   "metadata": {
    "collapsed": false
   },
   "id": "66a4a4704bf2cd23"
  }
 ],
 "metadata": {
  "kernelspec": {
   "display_name": "Python 3",
   "language": "python",
   "name": "python3"
  },
  "language_info": {
   "codemirror_mode": {
    "name": "ipython",
    "version": 2
   },
   "file_extension": ".py",
   "mimetype": "text/x-python",
   "name": "python",
   "nbconvert_exporter": "python",
   "pygments_lexer": "ipython2",
   "version": "2.7.6"
  }
 },
 "nbformat": 4,
 "nbformat_minor": 5
}
